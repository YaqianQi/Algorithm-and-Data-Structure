{
 "cells": [
  {
   "cell_type": "markdown",
   "metadata": {},
   "source": [
    "# Q1 Two Sum"
   ]
  },
  {
   "cell_type": "code",
   "execution_count": 1,
   "metadata": {},
   "outputs": [],
   "source": [
    "class Solution:\n",
    "    def twoSum(self,nums,target):\n",
    "        for i in range(len(nums)):\n",
    "            for j in range(i+1,len(nums)):\n",
    "                if nums[i]+nums[j] == target:\n",
    "                    return [i,j]\n",
    "            "
   ]
  },
  {
   "cell_type": "code",
   "execution_count": 8,
   "metadata": {},
   "outputs": [],
   "source": [
    "def twoSum(nums,target):\n",
    "    for i in range(len(nums)):\n",
    "        for j in range(i+1,len(nums)):\n",
    "            if nums[i]+nums[j] == target:\n",
    "                return [i,j]\n",
    "def twoSum2(nums, target):\n",
    "    keys = {}\n",
    "    for i in range(len(nums)):\n",
    "        if(target - nums[i] in keys):\n",
    "            return [keys[target-nums[i]],i]\n",
    "        else:\n",
    "            keys[nums[i]] = i\n"
   ]
  },
  {
   "cell_type": "code",
   "execution_count": 9,
   "metadata": {},
   "outputs": [
    {
     "data": {
      "text/plain": [
       "[1, 2]"
      ]
     },
     "execution_count": 9,
     "metadata": {},
     "output_type": "execute_result"
    }
   ],
   "source": [
    "nums= [1,2,3,4,2,3]\n",
    "target = 5\n",
    "twoSum2(nums,target)"
   ]
  },
  {
   "cell_type": "markdown",
   "metadata": {},
   "source": [
    "# Q2 Add two numbers linked list "
   ]
  },
  {
   "cell_type": "code",
   "execution_count": 54,
   "metadata": {},
   "outputs": [],
   "source": [
    "class ListNode:\n",
    "    def __init__(self,val):\n",
    "        self.val = val\n",
    "        self.next = None \n",
    "class LinkedList:\n",
    "    def __init__(self):\n",
    "        self.head = None\n",
    "    def push(self, val):\n",
    "        newnode = ListNode(val)\n",
    "        newnode.next = self.head\n",
    "        self.head = newnode\n",
    "    def printLinkedList(self):\n",
    "        temp = self.head\n",
    "        while(temp is not None):\n",
    "            print(temp.val)\n",
    "            temp = temp.next\n",
    "   # def addTwoNumbers(self, l1, l2)\n",
    "  "
   ]
  },
  {
   "cell_type": "code",
   "execution_count": 101,
   "metadata": {},
   "outputs": [],
   "source": [
    "def addTwoNumbers(l1, l2):\n",
    "    head = ListNode(0)\n",
    "    ans = head\n",
    "    carry = 0 \n",
    "    while(l1 and l2):\n",
    "        add = l1.val +l2.val+carry\n",
    "        carry = 1 if add>= 10 else 0\n",
    "        l1 = l1.next \n",
    "        l2 = l2.next \n",
    "        head.next = ListNode(add%10)\n",
    "        head = head.next \n",
    "    l  = l1 if l1 else l2\n",
    "\n",
    "    while l:\n",
    "        add = l.val+carry\n",
    "        l = l.next \n",
    "        head.next = ListNode(add%10)\n",
    "        head = head.next\n",
    "    if carry:\n",
    "        head.next = ListNode(1)\n",
    "    \n",
    "    #print res \n",
    "    temp = ans\n",
    "    while (temp.next is not None):\n",
    "        print(temp.next.val)\n",
    "        temp = temp.next\n",
    "    return ans.next"
   ]
  },
  {
   "cell_type": "code",
   "execution_count": 102,
   "metadata": {},
   "outputs": [],
   "source": [
    "l1 = Node(1)\n",
    "l1.next = Node(3)\n",
    "l1.next.next = Node(3)\n",
    "l2 = Node(1)\n",
    "l2.next = Node(3)\n",
    "l2.next.next = Node(3)"
   ]
  },
  {
   "cell_type": "code",
   "execution_count": 103,
   "metadata": {},
   "outputs": [
    {
     "name": "stdout",
     "output_type": "stream",
     "text": [
      "2\n",
      "6\n",
      "6\n"
     ]
    },
    {
     "data": {
      "text/plain": [
       "<__main__.ListNode at 0x1f1c38ede80>"
      ]
     },
     "execution_count": 103,
     "metadata": {},
     "output_type": "execute_result"
    }
   ],
   "source": [
    "addTwoNumbers(l1, l2)"
   ]
  },
  {
   "cell_type": "markdown",
   "metadata": {},
   "source": [
    "# Q3 longest substring "
   ]
  },
  {
   "cell_type": "code",
   "execution_count": 9,
   "metadata": {},
   "outputs": [],
   "source": [
    " def lengthOfLongestSubstring( s):\n",
    "        left, right = 0, 0\n",
    "        chars = set()\n",
    "        res = 0\n",
    "        while left < len(s) and right < len(s):\n",
    "            if s[right] in chars:\n",
    "                if s[left] in chars:\n",
    "                    chars.remove(s[left])\n",
    "                left += 1\n",
    "            else:\n",
    "                chars.add(s[right])\n",
    "                right += 1\n",
    "                res = max(res, len(chars))\n",
    "        return res\n",
    "\n",
    "#return res        "
   ]
  },
  {
   "cell_type": "code",
   "execution_count": 10,
   "metadata": {},
   "outputs": [
    {
     "data": {
      "text/plain": [
       "3"
      ]
     },
     "execution_count": 10,
     "metadata": {},
     "output_type": "execute_result"
    }
   ],
   "source": [
    "s = \"aaddddb\"\n",
    "lengthOfLongestSubstring(\"pwwkew\")"
   ]
  },
  {
   "cell_type": "markdown",
   "metadata": {},
   "source": [
    "# Q4 Median of two sorted array "
   ]
  },
  {
   "cell_type": "code",
   "execution_count": null,
   "metadata": {},
   "outputs": [],
   "source": [
    "nums1 = [1, 3]\n",
    "nums2 = [2]"
   ]
  },
  {
   "cell_type": "markdown",
   "metadata": {},
   "source": [
    "# Q5 Longest Palidromic Substring "
   ]
  },
  {
   "cell_type": "code",
   "execution_count": 72,
   "metadata": {},
   "outputs": [],
   "source": [
    "def find_longest_palindrome(s):\n",
    "    res = \"\"\n",
    "    max_val = 1\n",
    "    digit = 0 \n",
    "    start = 0 \n",
    "    for i in range(1,len(s)):\n",
    "        low = i-1\n",
    "        high = i\n",
    "        while low >=0 and high <len(s) and s[low] == s[high]:\n",
    "            if high-low+1 > max_val:\n",
    "                max_val = high-low+1\n",
    "               # print(max_val)\n",
    "                start = low \n",
    "            low -=1\n",
    "            high+=1\n",
    "            \n",
    "            \n",
    "        low = i-1\n",
    "        high = i+1\n",
    "        while low >=0 and high <len(s) and s[low] == s[high]:\n",
    "            if high-low+1 > max_val:\n",
    "                max_val = high-low+1\n",
    "               # print(max_val)\n",
    "                start = low \n",
    "            low -=1\n",
    "            high+=1\n",
    "    return s[start: start+max_val]"
   ]
  },
  {
   "cell_type": "code",
   "execution_count": 71,
   "metadata": {},
   "outputs": [
    {
     "data": {
      "text/plain": [
       "'VAV'"
      ]
     },
     "execution_count": 71,
     "metadata": {},
     "output_type": "execute_result"
    }
   ],
   "source": [
    "s = \"DADADV\"\n",
    "find_longest_palindrome(s)"
   ]
  },
  {
   "cell_type": "markdown",
   "metadata": {},
   "source": [
    "# Q7 Reverse Integer"
   ]
  },
  {
   "cell_type": "code",
   "execution_count": 93,
   "metadata": {},
   "outputs": [],
   "source": [
    "def reverse(x):\n",
    "    smallest = -2**31\n",
    "    largest = 2**31\n",
    "    if x == 0  or abs(x)> largest:\n",
    "        return 0\n",
    "    if x<0:\n",
    "        sign = -1\n",
    "    else: \n",
    "        sign = 1\n",
    "    temp = abs(x)\n",
    "    res = 0\n",
    "    while(temp>0):\n",
    "        res = res*10 + temp%10\n",
    "        temp = temp// 10\n",
    "    if abs(res)> largest:\n",
    "        return 0\n",
    "    return sign * res"
   ]
  },
  {
   "cell_type": "code",
   "execution_count": 94,
   "metadata": {},
   "outputs": [],
   "source": [
    "x = -123"
   ]
  },
  {
   "cell_type": "code",
   "execution_count": 95,
   "metadata": {},
   "outputs": [
    {
     "name": "stdout",
     "output_type": "stream",
     "text": [
      "-321\n"
     ]
    }
   ],
   "source": [
    "print(reverse(x))"
   ]
  },
  {
   "cell_type": "markdown",
   "metadata": {},
   "source": [
    "# Q9 Palindrome Number "
   ]
  },
  {
   "cell_type": "code",
   "execution_count": 102,
   "metadata": {},
   "outputs": [],
   "source": [
    "def isPalindrome(x):\n",
    "    if x < 0:\n",
    "        return False\n",
    "    \n",
    "    temp = x\n",
    "    rev = 0\n",
    "    while (temp> 0):\n",
    "        rev = rev *10 + temp % 10 \n",
    "        temp = temp // 10\n",
    "    if (rev == x):\n",
    "        return True\n",
    "    else:\n",
    "        return False"
   ]
  },
  {
   "cell_type": "code",
   "execution_count": 103,
   "metadata": {},
   "outputs": [
    {
     "data": {
      "text/plain": [
       "False"
      ]
     },
     "execution_count": 103,
     "metadata": {},
     "output_type": "execute_result"
    }
   ],
   "source": [
    "x = -121\n",
    "isPalindrome(x)"
   ]
  },
  {
   "cell_type": "markdown",
   "metadata": {},
   "source": [
    "# Q10 regular expression matching "
   ]
  },
  {
   "cell_type": "code",
   "execution_count": null,
   "metadata": {},
   "outputs": [],
   "source": []
  },
  {
   "cell_type": "markdown",
   "metadata": {},
   "source": [
    "# Q11 container with most water "
   ]
  },
  {
   "cell_type": "code",
   "execution_count": 108,
   "metadata": {},
   "outputs": [],
   "source": [
    "def maxArea(height):\n",
    "    low = 0 \n",
    "    high = len(height) - 1\n",
    "    res = 0\n",
    "    while(low < high):\n",
    "        if(height[low]< height[high]):\n",
    "            res = max(res, (high-low) *height[low])\n",
    "            low +=1\n",
    "        else:\n",
    "            res = max(res, (high-low) *height[high])\n",
    "            high -=1\n",
    "    return res\n",
    "      "
   ]
  },
  {
   "cell_type": "code",
   "execution_count": 109,
   "metadata": {},
   "outputs": [
    {
     "data": {
      "text/plain": [
       "49"
      ]
     },
     "execution_count": 109,
     "metadata": {},
     "output_type": "execute_result"
    }
   ],
   "source": [
    "height = [1,8,6,2,5,4,8,3,7]\n",
    "maxArea(height)"
   ]
  },
  {
   "cell_type": "markdown",
   "metadata": {},
   "source": [
    "# Q14 Longest Common Prefix "
   ]
  },
  {
   "cell_type": "code",
   "execution_count": 142,
   "metadata": {},
   "outputs": [],
   "source": [
    "class Solution:\n",
    "    def longestCommonPrefix(self,strs):\n",
    "        if len(strs) == 0:\n",
    "            return \"\"\n",
    "\n",
    "        longest = len(strs[0])\n",
    "        for e in strs[1:]:\n",
    "            index = 0\n",
    "            while  index <  longest and index<len(e) and e[index] == strs[0][index]:\n",
    "                index += 1\n",
    "            longest = min( longest, index)\n",
    "        return strs[0][: longest]"
   ]
  },
  {
   "cell_type": "code",
   "execution_count": 143,
   "metadata": {},
   "outputs": [
    {
     "name": "stdout",
     "output_type": "stream",
     "text": [
      "fl\n"
     ]
    }
   ],
   "source": [
    "if __name__ == '__main__':\n",
    "    sol = Solution()\n",
    "    strs = [\"flower\",\"flow\",\"flight\"]\n",
    "    print(sol.longestCommonPrefix(strs))"
   ]
  },
  {
   "cell_type": "markdown",
   "metadata": {},
   "source": [
    "# Q15 Three Sum"
   ]
  },
  {
   "cell_type": "code",
   "execution_count": 213,
   "metadata": {},
   "outputs": [],
   "source": [
    "class Solution:\n",
    "    def threeSum(self,nums,target):\n",
    "        nums = sorted(nums)\n",
    "        res = []\n",
    "        for i in range(len(nums)-2):\n",
    "            if i> 0 and nums[i] ==nums[i-1]:\n",
    "                continue \n",
    "            low = i+1\n",
    "            high = len(nums) - 1\n",
    "            tSum = target - nums[i]\n",
    "\n",
    "            while (low<high):\n",
    "                #print(low,high)\n",
    "                if (tSum == nums[low] +nums[high]):\n",
    "                    res.append([nums[i],nums[low],nums[high]])\n",
    "                    low +=1\n",
    "                    high -=1\n",
    "                    while low < high and nums[low] == nums[low-1]: \n",
    "                        low +=1\n",
    "                    while low < high and nums[high] == nums[high+1]:\n",
    "                        high -= 1\n",
    "                elif tSum > nums[low] +nums[high]:\n",
    "                    high-=1\n",
    "                elif tSum < nums[low] +nums[high]:\n",
    "                    low+=1\n",
    "\n",
    "        return res"
   ]
  },
  {
   "cell_type": "code",
   "execution_count": 215,
   "metadata": {},
   "outputs": [
    {
     "name": "stdout",
     "output_type": "stream",
     "text": [
      "[[-1, -1, 2], [-1, 0, 1]]\n"
     ]
    }
   ],
   "source": [
    "if __name__ == \"__main__\":\n",
    "    sol = Solution()\n",
    "    nums = [-1, 0, 1, 2, -1, -4]\n",
    "    target = 0\n",
    "    print(sol.threeSum(nums,target))\n"
   ]
  },
  {
   "cell_type": "markdown",
   "metadata": {},
   "source": [
    "# Q16 Three sum closet "
   ]
  },
  {
   "cell_type": "code",
   "execution_count": 266,
   "metadata": {},
   "outputs": [],
   "source": [
    "class Solution(object):\n",
    "    def threeSumClosest(self, nums, target):\n",
    "        res = 0\n",
    "        min_val =100000000\n",
    "        # have to sort. \n",
    "        nums = sorted(nums)\n",
    "        for i in range(len(nums)-2):\n",
    "            low = i+1\n",
    "            high = len(nums)-1\n",
    "            while (low < high):\n",
    "                if abs(target- nums[i] -nums[low] - nums[high])< min_val:\n",
    "                    res = nums[i] +nums[low] + nums[high]\n",
    "                    min_val = abs(target- nums[i] -nums[low] - nums[high])\n",
    "                   # low+=1\n",
    "                    #high -=1\n",
    "                if(target- nums[i] -nums[low] - nums[high]) > 0:\n",
    "                    low+=1\n",
    "                else:\n",
    "                    high-=1\n",
    "        return res"
   ]
  },
  {
   "cell_type": "code",
   "execution_count": 267,
   "metadata": {},
   "outputs": [
    {
     "name": "stdout",
     "output_type": "stream",
     "text": [
      "-2\n"
     ]
    }
   ],
   "source": [
    "if __name__ == \"__main__\":\n",
    "    nums =[-3,-2,-5,3,-4]\n",
    "    target = -1\n",
    "    sol = Solution()\n",
    "    print(sol.threeSumClosest(nums,target))"
   ]
  },
  {
   "cell_type": "markdown",
   "metadata": {},
   "source": [
    "# Q17 combinartion of phone number "
   ]
  },
  {
   "cell_type": "code",
   "execution_count": 37,
   "metadata": {},
   "outputs": [],
   "source": [
    "class Solution:\n",
    "    # @return a list of strings, [s1, s2]\n",
    "    def letterCombinations(self, digits):\n",
    "        if len(digits) == 0:\n",
    "            return []\n",
    "        def dfs(num, string, res):\n",
    "            if num == length:\n",
    "                res.append(string)\n",
    "                return\n",
    "            for letter in dict[digits[num]]:\n",
    "                    dfs(num+1, string+letter, res)\n",
    "        dict = {'2':['a','b','c'],\n",
    "                '3':['d','e','f'],\n",
    "                '4':['g','h','i'],\n",
    "                '5':['j','k','l'],\n",
    "                '6':['m','n','o'],\n",
    "                '7':['p','q','r','s'],\n",
    "                '8':['t','u','v'],\n",
    "                '9':['w','x','y','z']\n",
    "                }\n",
    "        \n",
    "        res = []\n",
    "        length = len(digits)\n",
    "        dfs(0, '', res)\n",
    "        \n",
    "        return res"
   ]
  },
  {
   "cell_type": "code",
   "execution_count": 28,
   "metadata": {},
   "outputs": [
    {
     "name": "stdout",
     "output_type": "stream",
     "text": [
      "['ad', 'ae', 'af', 'bd', 'be', 'bf', 'cd', 'ce', 'cf']\n"
     ]
    }
   ],
   "source": [
    "if __name__ == \"__main__\":\n",
    "    sol = Solution()\n",
    "    digits = '23'\n",
    "    print(sol.letterCombinations(digits))"
   ]
  },
  {
   "cell_type": "markdown",
   "metadata": {},
   "source": [
    "# Q18 Four sum "
   ]
  },
  {
   "cell_type": "code",
   "execution_count": 41,
   "metadata": {},
   "outputs": [],
   "source": [
    "## sacrifice space to reduce complexity "
   ]
  },
  {
   "cell_type": "code",
   "execution_count": 55,
   "metadata": {},
   "outputs": [],
   "source": [
    "class Solution:\n",
    "    # @return a list of lists of length 4, [[val1,val2,val3,val4]]\n",
    "    def fourSum(self, num, target):\n",
    "        numLen, res, dict = len(num), set(), {}\n",
    "        if numLen < 4: return []\n",
    "        num.sort()\n",
    "        for p in range(numLen):\n",
    "            for q in range(p+1, numLen): \n",
    "                if num[p]+num[q] not in dict:\n",
    "                    dict[num[p]+num[q]] = [(p,q)]\n",
    "                else:\n",
    "                    dict[num[p]+num[q]].append((p,q))\n",
    "        for i in range(numLen):\n",
    "            for j in range(i+1, numLen-2):\n",
    "                T = target-num[i]-num[j]\n",
    "                if T in dict:\n",
    "                    for k in dict[T]:\n",
    "                        if k[0] > j: res.add((num[i],num[j],num[k[0]],num[k[1]]))\n",
    "        return [list(i) for i in res]"
   ]
  },
  {
   "cell_type": "code",
   "execution_count": 62,
   "metadata": {},
   "outputs": [
    {
     "name": "stdout",
     "output_type": "stream",
     "text": [
      "[[-2, -1, 1, 2], [-2, 0, 0, 2], [-1, 0, 0, 1]]\n"
     ]
    }
   ],
   "source": [
    "if __name__ == \"__main__\":\n",
    "    sol = Solution()\n",
    "    nums = [1, 0, -1, 0, -2, 2]\n",
    "    target = 0\n",
    "    print(sol.fourSum(nums, target))"
   ]
  },
  {
   "cell_type": "markdown",
   "metadata": {},
   "source": [
    "# |Q19 Revome Nth Node From the end of list "
   ]
  },
  {
   "cell_type": "code",
   "execution_count": 150,
   "metadata": {},
   "outputs": [],
   "source": [
    "class ListNode:\n",
    "    def __init__(self, val):\n",
    "        self.val = val\n",
    "        self.next = None\n",
    "\n",
    "class Solution(object):\n",
    "    def removeNthFromEnd(self, head, n):\n",
    "        dummy=ListNode(0); dummy.next=head\n",
    "        p1=p2=dummy\n",
    "        for i in range(n): \n",
    "            p1=p1.next\n",
    "        while p1.next:\n",
    "            p1=p1.next; p2=p2.next\n",
    "        p2.next=p2.next.next\n",
    "\n",
    "        temp = dummy.next\n",
    "        while(temp!=None):\n",
    "            print(temp.val)\n",
    "            temp = temp.next\n",
    "        return dummy.next\n"
   ]
  },
  {
   "cell_type": "code",
   "execution_count": 151,
   "metadata": {},
   "outputs": [
    {
     "name": "stdout",
     "output_type": "stream",
     "text": [
      "1\n",
      "2\n",
      "3\n",
      "5\n"
     ]
    }
   ],
   "source": [
    "if __name__ == '__main__':\n",
    "   \n",
    "    lst1 = ListNode(1)\n",
    "    lst1.next =  ListNode(2)\n",
    "    lst1.next.next =  ListNode(3)\n",
    "    lst1.next.next.next =  ListNode(4)\n",
    "    lst1.next.next.next.next =  ListNode(5)\n",
    "\n",
    "    removeNthFromEnd(lst1 ,2)"
   ]
  },
  {
   "cell_type": "markdown",
   "metadata": {},
   "source": [
    "# Q20 Valid Parenthese"
   ]
  },
  {
   "cell_type": "code",
   "execution_count": 200,
   "metadata": {},
   "outputs": [],
   "source": [
    "class stack:\n",
    "    def __init__(self):\n",
    "        self.stack = []\n",
    "    def add(self, val):\n",
    "        self.stack.append(val)\n",
    "        \n",
    "    def peek(self):\n",
    "        return self.stack[0]\n",
    "    def pop(self):\n",
    "        return self.stack.pop()"
   ]
  },
  {
   "cell_type": "code",
   "execution_count": 201,
   "metadata": {},
   "outputs": [],
   "source": [
    "# put left parathesis in to stack \n",
    "# loop if not match return false \n",
    "class Solution:\n",
    "    # @return a boolean\n",
    "    def isValid(self, s):\n",
    "        stack = []\n",
    "        for i in range(len(s)):\n",
    "            if s[i] == '(' or s[i] == '[' or s[i] == '{':\n",
    "                stack.append(s[i])\n",
    "            if s[i] == ')':\n",
    "                if stack == [] or stack.pop() != '(':\n",
    "                    return False\n",
    "            if s[i] == ']':\n",
    "                if stack == [] or stack.pop() != '[':\n",
    "                    return False\n",
    "            if s[i] == '}':\n",
    "                if stack == [] or stack.pop() != '{':\n",
    "                    return False\n",
    "        if stack:\n",
    "            return False\n",
    "        else:\n",
    "            return True"
   ]
  },
  {
   "cell_type": "code",
   "execution_count": 203,
   "metadata": {},
   "outputs": [
    {
     "name": "stdout",
     "output_type": "stream",
     "text": [
      "False\n"
     ]
    }
   ],
   "source": [
    "if __name__ == '__main__':\n",
    "    sol = Solution()\n",
    "    s = '()]'\n",
    "    print(sol.isValid(s))"
   ]
  },
  {
   "cell_type": "markdown",
   "metadata": {},
   "source": [
    "# Q21 merge 2 sorted list "
   ]
  },
  {
   "cell_type": "code",
   "execution_count": 210,
   "metadata": {},
   "outputs": [],
   "source": [
    "class ListNode:\n",
    "    def __init__(self,val):\n",
    "        self.val = val\n",
    "        self.next = None"
   ]
  },
  {
   "cell_type": "code",
   "execution_count": 307,
   "metadata": {},
   "outputs": [],
   "source": [
    "class Solution:\n",
    "    # @param two ListNodes\n",
    "    # @return a ListNode\n",
    "    def mergeTwoLists(self, l1, l2):\n",
    "        if l1 == None:\n",
    "            return l2\n",
    "        if l2 == None:\n",
    "            return l1\n",
    "        dummy = ListNode(0)\n",
    "        tmp = dummy\n",
    "        while l1 and l2:\n",
    "            if l1.val <= l2.val:\n",
    "                tmp.next = l1\n",
    "                l1 = l1.next\n",
    "                tmp = tmp.next\n",
    "            else:\n",
    "                tmp.next = l2\n",
    "                l2 = l2.next\n",
    "                tmp = tmp.next\n",
    "        if l2 == None:\n",
    "            tmp.next = l1\n",
    "        else:\n",
    "            tmp.next = l2\n",
    "            \n",
    "        t1 = dummy.next\n",
    "        while(t1.next is not None):\n",
    "            print(t1.val)\n",
    "            t1 = t1.next\n",
    "        return dummy.next\n",
    "        "
   ]
  },
  {
   "cell_type": "code",
   "execution_count": 308,
   "metadata": {
    "scrolled": true
   },
   "outputs": [
    {
     "name": "stdout",
     "output_type": "stream",
     "text": [
      "1\n",
      "1\n",
      "2\n",
      "2\n",
      "3\n"
     ]
    }
   ],
   "source": [
    "if __name__ == \"__main__\":\n",
    "    l1 = ListNode(1)\n",
    "    l1.next = ListNode(2)\n",
    "    l1.next.next = ListNode(4)\n",
    "\n",
    "    l2 = ListNode(1)\n",
    "    l2.next = ListNode(2)\n",
    "    l2.next.next= ListNode(3)\n",
    "    sol = Solution()\n",
    "    sol.mergeTwoLists(l1,l2)"
   ]
  },
  {
   "cell_type": "markdown",
   "metadata": {},
   "source": [
    "# Q22 generate parenthese "
   ]
  },
  {
   "cell_type": "code",
   "execution_count": 289,
   "metadata": {},
   "outputs": [],
   "source": [
    "class Solution:\n",
    "    def generateParenthesis(self, n):\n",
    "        res = []\n",
    "        self.helper(n, n, '', res)\n",
    "        return res\n",
    "    \n",
    "    \n",
    "    def helper(self,left, right, string, res):\n",
    "        if left == 0 and right == 0:\n",
    "            res.append(string)\n",
    "        if left > 0:\n",
    "            self.helper(left -1, right, string +\"(\", res)\n",
    "        if right> left:\n",
    "            self.helper(left, right -1, string +\")\", res)"
   ]
  },
  {
   "cell_type": "code",
   "execution_count": 290,
   "metadata": {},
   "outputs": [
    {
     "name": "stdout",
     "output_type": "stream",
     "text": [
      "['((()))', '(()())', '(())()', '()(())', '()()()']\n"
     ]
    }
   ],
   "source": [
    "if __name__ == \"__main__\":\n",
    "    n = 3\n",
    "    sol = Solution()\n",
    "    print(sol.generateParenthesis(n))"
   ]
  },
  {
   "cell_type": "markdown",
   "metadata": {},
   "source": [
    "# Q23 merge k sorted list "
   ]
  },
  {
   "cell_type": "code",
   "execution_count": 325,
   "metadata": {},
   "outputs": [],
   "source": [
    "class ListNode:\n",
    "    def __init__(self,val):\n",
    "        self.val = val\n",
    "        self.next = None"
   ]
  },
  {
   "cell_type": "code",
   "execution_count": 343,
   "metadata": {},
   "outputs": [],
   "source": [
    "class Solution(object):\n",
    "   # def mergeKLists(self, lists):\n",
    "    def mergeKLists(self, lists):\n",
    "\n",
    "        amount = len(lists)\n",
    "        interval = 1\n",
    "        while interval < amount:\n",
    "            for i in range(0, amount - interval, interval * 2):\n",
    "                lists[i] = self.mergTwo2Lists(lists[i], lists[i + interval])\n",
    "            interval *= 2\n",
    "        return lists[0] if amount > 0 else lists\n",
    "\n",
    "\n",
    "    def mergeTwoList(self , l1,l2):\n",
    "        if l1 == None:\n",
    "            return l2\n",
    "        if l2 == None:\n",
    "            return l1\n",
    "        dummy = ListNode(-1)\n",
    "        temp = dummy\n",
    "        while l1 and l2:\n",
    "            if l1.val <= l2.val:\n",
    "                temp.next = l1\n",
    "                l1 = l1.next \n",
    "                temp = temp.next \n",
    "            else:\n",
    "                temp.next = l2\n",
    "                l2 = l2.next \n",
    "                temp = temp.next\n",
    "        if l1 == None:\n",
    "            temp.next = l2\n",
    "        if l2 == None:\n",
    "            temp.next = l1\n",
    "        t = dummy.next \n",
    "        while t!=None:\n",
    "            print(t.val)\n",
    "            t = t.next\n",
    "        return dummy.next"
   ]
  },
  {
   "cell_type": "code",
   "execution_count": 351,
   "metadata": {},
   "outputs": [],
   "source": [
    "if __name__ == \"__main__\":\n",
    "\n",
    "    sol = Solution()\n",
    "    l1 = ListNode(1)\n",
    "    l1.next = ListNode(3)\n",
    "    l1.next.next = ListNode(3)\n",
    "    l2 = ListNode(1)\n",
    "    l2.next = ListNode(3)\n",
    "    l2.next.next = ListNode(3)\n",
    "    #print(sol.mergeKLists(lst))"
   ]
  },
  {
   "cell_type": "markdown",
   "metadata": {},
   "source": [
    "# Q24 Swap nodes in pairs "
   ]
  },
  {
   "cell_type": "code",
   "execution_count": null,
   "metadata": {},
   "outputs": [],
   "source": [
    "# Given 1->2->3->4, you should return the list as 2->1->4->3."
   ]
  },
  {
   "cell_type": "code",
   "execution_count": null,
   "metadata": {},
   "outputs": [],
   "source": [
    "class Solution(object):\n",
    "    def swapPairs(self, head):\n",
    "        \"\"\"\n",
    "        :type head: ListNode\n",
    "        :rtype: ListNode\n",
    "        \"\"\"\n",
    "        if head is None or head.next is None:\n",
    "            return head\n",
    "        dummy = ListNode(0)\n",
    "        dummy.next = head\n",
    "        p = dummy\n",
    "        while p.next and p.next.next:\n",
    "            tmp = p.next.next\n",
    "            p.next.next = tmp.next\n",
    "            tmp.next = p.next\n",
    "            p.next = tmp\n",
    "            p = p.next.next\n",
    "        t = dummy.next\n",
    "        while(t != None):\n",
    "            print(t.val)\n",
    "            t = t.next\n",
    "        return dummy.next\n"
   ]
  },
  {
   "cell_type": "code",
   "execution_count": 359,
   "metadata": {},
   "outputs": [
    {
     "name": "stdout",
     "output_type": "stream",
     "text": [
      "3\n",
      "1\n",
      "5\n",
      "3\n",
      "<__main__.ListNode object at 0x000001D26FF46AC8>\n"
     ]
    }
   ],
   "source": [
    "if __name__ == \"__main__\":\n",
    "\n",
    "    sol = Solution()\n",
    "    l1 = ListNode(1)\n",
    "    l1.next = ListNode(3)\n",
    "    l1.next.next = ListNode(3)\n",
    "    l1.next.next.next = ListNode(5)\n",
    "    print(sol.swapPairs(l1))"
   ]
  },
  {
   "cell_type": "markdown",
   "metadata": {},
   "source": [
    "# Q25 reverse Node in k group "
   ]
  },
  {
   "cell_type": "code",
   "execution_count": null,
   "metadata": {},
   "outputs": [],
   "source": [
    "# For k = 2, you should return: 2->1->4->3->5\n",
    "# For k = 3, you should return: 3->2->1->4->5"
   ]
  },
  {
   "cell_type": "code",
   "execution_count": null,
   "metadata": {},
   "outputs": [],
   "source": []
  },
  {
   "cell_type": "markdown",
   "metadata": {},
   "source": [
    "# Q26 revmove duplicates from sorted array "
   ]
  },
  {
   "cell_type": "code",
   "execution_count": 382,
   "metadata": {},
   "outputs": [],
   "source": [
    "class Solution:\n",
    "    def removeDuplicates(self, nums):\n",
    "        if len(nums) == 0:\n",
    "            return 0\n",
    "        count = 1 \n",
    "        for i in range(len(nums)):\n",
    "            if nums[count-1]!= nums[i]:\n",
    "                count+=1\n",
    "                nums[count] = nums[i]\n",
    "                #count+=1\n",
    "        return count"
   ]
  },
  {
   "cell_type": "code",
   "execution_count": 383,
   "metadata": {},
   "outputs": [
    {
     "name": "stdout",
     "output_type": "stream",
     "text": [
      "4\n"
     ]
    }
   ],
   "source": [
    "if __name__ == '__main__':\n",
    "    nums = [0,1,2,3,3]\n",
    "    sol = Solution() \n",
    "    print(sol.removeDuplicates(nums))"
   ]
  },
  {
   "cell_type": "markdown",
   "metadata": {},
   "source": [
    "# Q28 Implement strStr()"
   ]
  },
  {
   "cell_type": "code",
   "execution_count": 384,
   "metadata": {},
   "outputs": [],
   "source": [
    "#Input: haystack = \"hello\", needle = \"ll\", Output: 2"
   ]
  },
  {
   "cell_type": "code",
   "execution_count": 7,
   "metadata": {},
   "outputs": [],
   "source": [
    "class Solution(object):\n",
    "    def strStr(self, haystack, needle):\n",
    "        \"\"\"\n",
    "        :type haystack: str\n",
    "        :type needle: str\n",
    "        :rtype: int\n",
    "        \"\"\"\n",
    "        for i in range(len(haystack) - len(needle) ):\n",
    "            if haystack[i:i+len(needle)] == needle:\n",
    "                return i\n",
    "        return -1"
   ]
  },
  {
   "cell_type": "code",
   "execution_count": 8,
   "metadata": {},
   "outputs": [
    {
     "name": "stdout",
     "output_type": "stream",
     "text": [
      "7\n"
     ]
    }
   ],
   "source": [
    "if __name__ == '__main__':\n",
    "    haystack = \"heeeeeello\"\n",
    "    needle = \"ll\"\n",
    "    sol = Solution()\n",
    "    print(sol.strStr(haystack,needle))"
   ]
  },
  {
   "cell_type": "markdown",
   "metadata": {},
   "source": [
    "# 29. Divide Two Integers"
   ]
  },
  {
   "cell_type": "code",
   "execution_count": 425,
   "metadata": {},
   "outputs": [],
   "source": [
    "# binary search \n",
    "# step1: sign \n",
    "# step2:boundary, exceed the max value \n",
    "# step2: divisor should not be zero \n",
    "# step3: binary search , count += count, sum+= sum \n",
    "# \n",
    "class Solution(object):\n",
    "    def divide(self, dividend, divisor):\n",
    "        sign = 1\n",
    "        if (dividend > 0 and divisor < 0) or (dividend < 0 and divisor > 0):\n",
    "            sign = -1\n",
    "            if abs(dividend) < abs(divisor):\n",
    "                return 0\n",
    "        res = 0\n",
    "        a = abs(dividend)\n",
    "        b = abs(divisor)\n",
    "        sum= 0\n",
    "        count = 0\n",
    "        while a >= b:\n",
    "            sum = b\n",
    "            count = 1\n",
    "            while sum + sum <= a:\n",
    "                sum += sum\n",
    "                count += count\n",
    "            a -= sum\n",
    "            res += count\n",
    "        if sign == -1:\n",
    "            res = 0 - res\n",
    "        if res >= pow(2, 31)-1 and sign == 1: return pow(2, 31) - 1\n",
    "        if res >= pow(2, 31) and sign == -1: return -pow(2, 31)\n",
    "        return res\n"
   ]
  },
  {
   "cell_type": "code",
   "execution_count": 426,
   "metadata": {},
   "outputs": [
    {
     "name": "stdout",
     "output_type": "stream",
     "text": [
      "3\n"
     ]
    }
   ],
   "source": [
    "if __name__ == \"__main__\":\n",
    "    sol = Solution()\n",
    "    dividend = 10 \n",
    "    divisor = 3\n",
    "    print(sol.divide(dividend, divisor))"
   ]
  },
  {
   "cell_type": "markdown",
   "metadata": {},
   "source": [
    "## 30. Substring with Concatenation of All Words"
   ]
  },
  {
   "cell_type": "code",
   "execution_count": 489,
   "metadata": {},
   "outputs": [],
   "source": [
    "def permutation(words):\n",
    "    res = []                       \n",
    "    temp =''\n",
    "    total_length = 0 \n",
    "    for i in range(len(words)):\n",
    "        total_length += len(words[i])\n",
    "\n",
    "\n",
    "    for i in range(len(words)):\n",
    "        temp = words[i]\n",
    "        substring = words[:i]+words[i+1:]\n",
    "        for x in substring:\n",
    "            temp +=x\n",
    "            if len(temp) == total_length:\n",
    "                res.append(temp)\n",
    "    return res\n",
    "\n",
    "def findOneWord(s,t):\n",
    "    n = len(t)\n",
    "    res = []\n",
    "    for i in range(len(s)):\n",
    "        if s[i:i+n] == t:\n",
    "            return i\n",
    "        \n",
    "def findMultipleWord(s,t):\n",
    "    res = []\n",
    "    for t in search_lst:\n",
    "        temp = findOneWord(s,t)\n",
    "        res.append(temp)\n",
    "    return res"
   ]
  },
  {
   "cell_type": "code",
   "execution_count": 490,
   "metadata": {},
   "outputs": [],
   "source": [
    "s = \"barfoothefoobarman\"\n",
    "words = [\"foo\",\"bar\"]"
   ]
  },
  {
   "cell_type": "code",
   "execution_count": 491,
   "metadata": {},
   "outputs": [
    {
     "data": {
      "text/plain": [
       "[9, 0]"
      ]
     },
     "execution_count": 491,
     "metadata": {},
     "output_type": "execute_result"
    }
   ],
   "source": [
    "findMultipleWord(s,words)"
   ]
  },
  {
   "cell_type": "markdown",
   "metadata": {},
   "source": [
    "# Q33 search in rotated sorted array "
   ]
  },
  {
   "cell_type": "code",
   "execution_count": 513,
   "metadata": {},
   "outputs": [],
   "source": [
    "# other version of binary search \n",
    "class Solution:\n",
    "    def search(self, A, target):\n",
    "        left = 0; right = len(A) - 1\n",
    "        while left <= right:\n",
    "            mid = (left + right) // 2\n",
    "            if target == A[mid]:\n",
    "                return mid\n",
    "            if A[mid] >= A[left]:\n",
    "                if target < A[mid] and target >= A[left]:\n",
    "                    right = mid - 1\n",
    "                else:\n",
    "                    left = mid + 1\n",
    "            elif A[mid] < A[right]:\n",
    "                if target > A[mid] and target <= A[right]:\n",
    "                    left = mid + 1\n",
    "                else:\n",
    "                    right = mid - 1\n",
    "        return -1\n"
   ]
  },
  {
   "cell_type": "code",
   "execution_count": 524,
   "metadata": {},
   "outputs": [
    {
     "name": "stdout",
     "output_type": "stream",
     "text": [
      "6\n"
     ]
    }
   ],
   "source": [
    "if __name__ == \"__main__\":\n",
    "    sol = Solution()\n",
    "    nums = [4,5,6,7,1,2,3]\n",
    "    target = 3\n",
    "    print(sol.search(nums,target))"
   ]
  },
  {
   "cell_type": "markdown",
   "metadata": {},
   "source": [
    "# 34. Find First and Last Position of Element in Sorted Array"
   ]
  },
  {
   "cell_type": "code",
   "execution_count": null,
   "metadata": {},
   "outputs": [],
   "source": [
    "#Input: nums = [5,7,7,8,8,10], target = 8\n",
    "#Output: [3,4]"
   ]
  },
  {
   "cell_type": "code",
   "execution_count": 598,
   "metadata": {},
   "outputs": [],
   "source": [
    "class Solution:\n",
    "    def searchRange(self,nums, target):\n",
    "        length = len(nums)\n",
    "        if length == 0:\n",
    "            return [-1,-1]\n",
    "        # pay attention to the equal sign \n",
    "        if target >= nums[0] and target<= nums[-1]:\n",
    "            l = 0\n",
    "            r = len(nums) - 1\n",
    "            while (l <= r):\n",
    "                mid = l + (r - l)//2\n",
    "                if nums[mid] == target:\n",
    "                    right = left = mid\n",
    "                    while left-1> 0 and nums[left-1] == target:\n",
    "                        left -=1\n",
    "                    while right+1< len(nums)-1 and nums[right + 1] == target:\n",
    "                        right +=1\n",
    "                    return [left,right]\n",
    "                elif nums[mid] > target:\n",
    "                    r = mid - 1 \n",
    "                else:\n",
    "                    l = mid + 1\n",
    "        return [-1,-1]"
   ]
  },
  {
   "cell_type": "code",
   "execution_count": 599,
   "metadata": {},
   "outputs": [
    {
     "name": "stdout",
     "output_type": "stream",
     "text": [
      "[0, 0]\n"
     ]
    }
   ],
   "source": [
    "if __name__ == '__main__':\n",
    "    nums = [2,2]\n",
    "    x= 2\n",
    "    sol  = Solution()\n",
    "    print(sol.searchRange(nums,x))"
   ]
  },
  {
   "cell_type": "markdown",
   "metadata": {},
   "source": [
    "## 35. Search Insert Position"
   ]
  },
  {
   "cell_type": "code",
   "execution_count": null,
   "metadata": {},
   "outputs": [],
   "source": [
    "# binary search ..?? \n",
    "#Input: [1,3,5,6], 5\n",
    "#Output: 2"
   ]
  },
  {
   "cell_type": "code",
   "execution_count": 623,
   "metadata": {},
   "outputs": [],
   "source": [
    "nums = [1,3,5,6]\n",
    "target = 7"
   ]
  },
  {
   "cell_type": "code",
   "execution_count": 663,
   "metadata": {},
   "outputs": [],
   "source": [
    "class Solution(object):\n",
    "    def searchInsert(self,nums, target):\n",
    "        low = 0\n",
    "        high = len(nums)-1\n",
    "        while low <= high:\n",
    "            mid = (low+high)//2\n",
    "            if nums[mid] == target:\n",
    "                return mid\n",
    "            elif nums[mid]<target:\n",
    "                low = mid + 1\n",
    "            elif nums[mid]> target :\n",
    "                high = mid - 1\n",
    "        return left"
   ]
  },
  {
   "cell_type": "code",
   "execution_count": null,
   "metadata": {},
   "outputs": [],
   "source": [
    "class Solution:\n",
    "    # @param A, a list of integers\n",
    "    # @param target, an integer to be inserted\n",
    "    # @return integer\n",
    "    def searchInsert(self, A, target):\n",
    "        left = 0; right = len(A) - 1\n",
    "        while left <= right:\n",
    "            mid = ( left + right ) // 2\n",
    "            if A[mid] < target:\n",
    "                left = mid + 1\n",
    "            elif A[mid] > target:\n",
    "                right = mid - 1\n",
    "            else:\n",
    "                return mid\n",
    "        return left"
   ]
  },
  {
   "cell_type": "code",
   "execution_count": 664,
   "metadata": {},
   "outputs": [
    {
     "name": "stdout",
     "output_type": "stream",
     "text": [
      "2\n"
     ]
    }
   ],
   "source": [
    " if __name__ == '__main__':\n",
    "    nums = [1,3,5,6]\n",
    "    target = 5\n",
    "    sol = Solution()\n",
    "    \n",
    "    print(sol.searchInsert(nums, target))"
   ]
  },
  {
   "cell_type": "markdown",
   "metadata": {},
   "source": [
    "## Q39 Combination Sum"
   ]
  },
  {
   "cell_type": "code",
   "execution_count": 32,
   "metadata": {},
   "outputs": [],
   "source": [
    "# each position can be use multiple time \n",
    "class Solution:\n",
    "    # @param candidates, a list of integers\n",
    "    # @param target, integer\n",
    "    # @return a list of lists of integers\n",
    "    def DFS(self, candidates, target, start, valuelist):\n",
    "        length = len(candidates)\n",
    "        if target == 0:\n",
    "            return Solution.ret.append(valuelist)\n",
    "        for i in range(start, length):\n",
    "            if target < candidates[i]:\n",
    "                return\n",
    "            self.DFS(candidates, target - candidates[i], i, valuelist + [candidates[i]])\n",
    "        \n",
    "    def combinationSum(self, candidates, target):\n",
    "        # have to sort o(ologn)\n",
    "        candidates.sort()\n",
    "        Solution.ret = []\n",
    "        self.DFS(candidates, target, 0, [])\n",
    "        return Solution.ret"
   ]
  },
  {
   "cell_type": "code",
   "execution_count": 33,
   "metadata": {},
   "outputs": [
    {
     "name": "stdout",
     "output_type": "stream",
     "text": [
      "[[2, 2, 3], [7]]\n"
     ]
    }
   ],
   "source": [
    "if __name__ == '__main__':\n",
    "    candidates = [2,3,6,7]\n",
    "    target = 7\n",
    "    sol = Solution() \n",
    "    print(sol.combinationSum(candidates, target))"
   ]
  },
  {
   "cell_type": "markdown",
   "metadata": {},
   "source": [
    "# Q40 Permutation Sum "
   ]
  },
  {
   "cell_type": "code",
   "execution_count": 44,
   "metadata": {},
   "outputs": [],
   "source": [
    "# slightly different with previous\n",
    "# 1. no duplicates 2. every position should be use only one \n",
    "class Solution:\n",
    "    def permutationSum(self,candidates, target):\n",
    "        candidates.sort()\n",
    "        Solution.res = []\n",
    "        self.dfs(candidates, target,0,[])\n",
    "        return Solution.res\n",
    "    \n",
    "    def dfs(self,candidates, target,start,valList):\n",
    "        if target == 0 and valList not in Solution.res:\n",
    "            Solution.res.append(valList)\n",
    "        for i in range(start, len(candidates)):\n",
    "            # meaning we can't find something that smaller than target \n",
    "            # go to next route \n",
    "            if target < candidates[i]:\n",
    "                return \n",
    "            self.dfs(candidates, target-candidates[i],i+1,valList+[candidates[i]])\n"
   ]
  },
  {
   "cell_type": "code",
   "execution_count": 45,
   "metadata": {},
   "outputs": [
    {
     "name": "stdout",
     "output_type": "stream",
     "text": [
      "[[1, 1, 6], [1, 2, 5], [1, 7], [2, 6]]\n"
     ]
    }
   ],
   "source": [
    "if __name__ == '__main__':\n",
    "    candidates = [ 10,1,2,7,6,1,5 ]\n",
    "    target = 8\n",
    "    sol = Solution() \n",
    "    print(sol.permutationSum(candidates, target))"
   ]
  },
  {
   "cell_type": "markdown",
   "metadata": {},
   "source": [
    "# Q41. First Missing Positive"
   ]
  },
  {
   "cell_type": "code",
   "execution_count": null,
   "metadata": {},
   "outputs": [],
   "source": [
    "# try you best put the num less than n in their position \n",
    "# the first val doesnt satisfied the num[i] = i+1 \n",
    "# i+1 it's the missing postive "
   ]
  },
  {
   "cell_type": "code",
   "execution_count": 59,
   "metadata": {},
   "outputs": [],
   "source": [
    "class Solution(object):\n",
    "    def firstMissingPositive(self, nums):\n",
    "        n = len(nums)\n",
    "        for i in range(n):\n",
    "            while nums[i]> 0 and nums[i]<= n and nums[i]!=i+1 and nums[i]!= nums[nums[i]-1]:\n",
    "                nums[nums[i]-1], nums[i] = nums[i], nums[nums[i] - 1]\n",
    "        print(nums)\n",
    "        for i in range(n):\n",
    "            if i+1!= nums[i]:\n",
    "                return i+1\n",
    "        return n+1"
   ]
  },
  {
   "cell_type": "code",
   "execution_count": 68,
   "metadata": {},
   "outputs": [
    {
     "name": "stdout",
     "output_type": "stream",
     "text": [
      "[1, -1, 3, 4]\n",
      "2\n"
     ]
    }
   ],
   "source": [
    "if __name__ == '__main__':\n",
    "    nums=[3,4,1,-1]\n",
    "    sol = Solution()\n",
    "    print(sol.firstMissingPositive(nums))"
   ]
  },
  {
   "cell_type": "markdown",
   "metadata": {},
   "source": [
    "#  Q42. Trapping Rain Water"
   ]
  },
  {
   "cell_type": "code",
   "execution_count": 80,
   "metadata": {},
   "outputs": [],
   "source": [
    "# consider the boundary first , if input is None, return 0\n",
    "# for each position, find the right size max, find left size max \n",
    "# calculate the volumne min(left , right) - height\n",
    "# \n",
    "class Solution(object):\n",
    "    def trap(self, height):\n",
    "        n = len(height)\n",
    "        left_size = [0] * n \n",
    "        right_size = [0] * n\n",
    "        res = 0\n",
    "        left_size[0] = height[0]\n",
    "        for i in range(1,n):\n",
    "            left_size[i] = max(height[i], left_size[i-1])\n",
    "        right_size[n-1] = height[n-1]\n",
    "        for i in range(n-2,-1, -1):\n",
    "            right_size[i] = max(height[i],right_size[i+1])\n",
    "        for i in range(n-1):\n",
    "            res+= min(left_size[i],right_size[i]) -  height[i]\n",
    "        return res"
   ]
  },
  {
   "cell_type": "code",
   "execution_count": 81,
   "metadata": {},
   "outputs": [
    {
     "name": "stdout",
     "output_type": "stream",
     "text": [
      "6\n"
     ]
    }
   ],
   "source": [
    "if __name__ == '__main__':\n",
    "    height = [0,1,0,2,1,0,1,3,2,1,2,1]\n",
    "    sol = Solution()\n",
    "    print(sol.trap(height))"
   ]
  },
  {
   "cell_type": "markdown",
   "metadata": {},
   "source": [
    " # 43. Multiply Strings"
   ]
  },
  {
   "cell_type": "code",
   "execution_count": null,
   "metadata": {},
   "outputs": [],
   "source": [
    "#Input: num1 = \"123\", num2 = \"456\"\n",
    "#Output: \"56088\"\n",
    "#The length of both num1 and num2 is < 110.\n",
    "#Both num1 and num2 contain only digits 0-9.\n",
    "#Both num1 and num2 do not contain any leading zero, except the number 0 itself.\n",
    "#You must not use any built-in BigInteger library or convert the inputs to integer directly."
   ]
  },
  {
   "cell_type": "code",
   "execution_count": 146,
   "metadata": {},
   "outputs": [],
   "source": [
    "class Solution(object):\n",
    "    def multiply(self, num1, num2):\n",
    "\n",
    "        if len(num1) == 0 or len(num2) == 0:\n",
    "            return \"\"\n",
    "\n",
    "        n1 = len(num1)\n",
    "        n2 = len(num2)\n",
    "\n",
    "        # Reverse the string so we can scan strings from the left to right\n",
    "        # T(n) = O(n)\n",
    "        num1 = num1[::-1]\n",
    "        num2 = num2[::-1]\n",
    "\n",
    "        # Create an empty ret string\n",
    "        # S(n) = O(n)\n",
    "        ret = [0] * (n1 + n2)\n",
    "\n",
    "        # For each digits in s2\n",
    "        for j in range(n2):\n",
    "            carry = 0\n",
    "            d2 = int(num2[j])\n",
    "\n",
    "            # Calculate s1 * d2\n",
    "            for i in range(n1):\n",
    "                d1 = int(num1[i])\n",
    "                res = ret[i+j] + d1 *d2 + carry\n",
    "                carry = int(res / 10)\n",
    "                ret[i+j] = res - carry * 10\n",
    "\n",
    "            # After calculation of s1*d2, we need to check if s1 * d2 has a carry at the highest position\n",
    "            # We can assume that it is the first time to visit ret[n1 + j]\n",
    "            if carry != 0:\n",
    "                ret[n1 + j] = carry\n",
    "\n",
    "        # Convert result from int to string, and reverse the digits\n",
    "        ret = \"\".join(str(x) for x in ret[::-1])\n",
    "        i = 0\n",
    "        while i < len(ret) and ret[i] == '0':\n",
    "            i += 1\n",
    "        ret = ret[i:]\n",
    "        if len(ret) == 0: return '0'\n",
    "        return ret\n"
   ]
  },
  {
   "cell_type": "code",
   "execution_count": 145,
   "metadata": {},
   "outputs": [
    {
     "name": "stdout",
     "output_type": "stream",
     "text": [
      "056088\n",
      "56088\n"
     ]
    }
   ],
   "source": [
    "if __name__ == '__main__':\n",
    "    num1 = \"123\"\n",
    "    num2 = \"456\"\n",
    "    sol = Solution()\n",
    "    print(sol.multiply(num1, num2))"
   ]
  },
  {
   "cell_type": "code",
   "execution_count": null,
   "metadata": {},
   "outputs": [],
   "source": []
  },
  {
   "cell_type": "code",
   "execution_count": null,
   "metadata": {},
   "outputs": [],
   "source": []
  },
  {
   "cell_type": "code",
   "execution_count": null,
   "metadata": {},
   "outputs": [],
   "source": []
  },
  {
   "cell_type": "code",
   "execution_count": null,
   "metadata": {},
   "outputs": [],
   "source": []
  },
  {
   "cell_type": "code",
   "execution_count": null,
   "metadata": {},
   "outputs": [],
   "source": []
  },
  {
   "cell_type": "code",
   "execution_count": null,
   "metadata": {},
   "outputs": [],
   "source": []
  },
  {
   "cell_type": "code",
   "execution_count": null,
   "metadata": {},
   "outputs": [],
   "source": []
  },
  {
   "cell_type": "code",
   "execution_count": null,
   "metadata": {},
   "outputs": [],
   "source": []
  },
  {
   "cell_type": "code",
   "execution_count": null,
   "metadata": {},
   "outputs": [],
   "source": []
  },
  {
   "cell_type": "code",
   "execution_count": null,
   "metadata": {},
   "outputs": [],
   "source": []
  },
  {
   "cell_type": "code",
   "execution_count": null,
   "metadata": {},
   "outputs": [],
   "source": []
  },
  {
   "cell_type": "code",
   "execution_count": null,
   "metadata": {},
   "outputs": [],
   "source": []
  }
 ],
 "metadata": {
  "kernelspec": {
   "display_name": "Python 3",
   "language": "python",
   "name": "python3"
  },
  "language_info": {
   "codemirror_mode": {
    "name": "ipython",
    "version": 3
   },
   "file_extension": ".py",
   "mimetype": "text/x-python",
   "name": "python",
   "nbconvert_exporter": "python",
   "pygments_lexer": "ipython3",
   "version": "3.6.6"
  }
 },
 "nbformat": 4,
 "nbformat_minor": 2
}
