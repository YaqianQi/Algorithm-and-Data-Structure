{
 "cells": [
  {
   "cell_type": "markdown",
   "metadata": {},
   "source": [
    "# Destination City"
   ]
  },
  {
   "cell_type": "code",
   "execution_count": null,
   "metadata": {},
   "outputs": [],
   "source": [
    "# Input: paths = [[\"London\",\"New York\"],[\"New York\",\"Lima\"],[\"Lima\",\"Sao Paulo\"]]\n",
    "# Output: \"Sao Paulo\" \n",
    "# Explanation: Starting at \"London\" city you will reach \"Sao Paulo\" city which is the destination city. \n",
    "# Your trip consist of: \"London\" -> \"New York\" -> \"Lima\" -> \"Sao Paulo\"."
   ]
  },
  {
   "cell_type": "code",
   "execution_count": null,
   "metadata": {},
   "outputs": [],
   "source": [
    "# Input: paths = [[\"B\",\"C\"],[\"D\",\"B\"],[\"C\",\"A\"]]\n",
    "# Output: \"A\"\n",
    "# Explanation: All possible trips are: \n",
    "# \"D\" -> \"B\" -> \"C\" -> \"A\". \n",
    "# \"B\" -> \"C\" -> \"A\". \n",
    "# \"C\" -> \"A\". \n",
    "# \"A\". \n",
    "# Clearly the destination city is \"A\"."
   ]
  },
  {
   "cell_type": "code",
   "execution_count": null,
   "metadata": {},
   "outputs": [],
   "source": [
    "# Input: paths = [[\"A\",\"Z\"]]\n",
    "# Output: \"Z\""
   ]
  },
  {
   "cell_type": "code",
   "execution_count": 11,
   "metadata": {},
   "outputs": [],
   "source": [
    "paths = [[\"A\",\"Z\"]]"
   ]
  },
  {
   "cell_type": "code",
   "execution_count": 12,
   "metadata": {},
   "outputs": [],
   "source": [
    "def destCity(paths):\n",
    "    start_set = {paths[0][0]}\n",
    "    des = \"\"\n",
    "    for x in paths:\n",
    "        start_set.add(x[0])\n",
    "    for x in paths:\n",
    "        if x[1] not in start_set:\n",
    "            des = x[1]\n",
    "    return des "
   ]
  },
  {
   "cell_type": "code",
   "execution_count": 13,
   "metadata": {},
   "outputs": [
    {
     "data": {
      "text/plain": [
       "'Z'"
      ]
     },
     "execution_count": 13,
     "metadata": {},
     "output_type": "execute_result"
    }
   ],
   "source": [
    "destCity(paths)"
   ]
  },
  {
   "cell_type": "markdown",
   "metadata": {},
   "source": [
    "# Check If All 1's Are at Least Length K Places Away"
   ]
  },
  {
   "cell_type": "code",
   "execution_count": null,
   "metadata": {},
   "outputs": [],
   "source": [
    "# Input: nums = [1,0,0,0,1,0,0,1], k = 2\n",
    "# Output: true\n",
    "# Explanation: Each of the 1s are at least 2 places away from each other."
   ]
  },
  {
   "cell_type": "code",
   "execution_count": null,
   "metadata": {},
   "outputs": [],
   "source": [
    "# Input: nums = [1,0,0,1,0,1], k = 2\n",
    "# Output: false\n",
    "# Explanation: The second 1 and third 1 are only one apart from each other."
   ]
  },
  {
   "cell_type": "code",
   "execution_count": null,
   "metadata": {},
   "outputs": [],
   "source": [
    "# Input: nums = [1,1,1,1,1], k = 0\n",
    "# Output: true"
   ]
  },
  {
   "cell_type": "code",
   "execution_count": null,
   "metadata": {},
   "outputs": [],
   "source": [
    "# Input: nums = [0,1,0,1], k = 1\n",
    "# Output: true"
   ]
  },
  {
   "cell_type": "code",
   "execution_count": 88,
   "metadata": {},
   "outputs": [],
   "source": [
    "# nums = [1,0,0,0,1,0,0,1]\n",
    "# k = 2\n",
    "nums = [0,1,0,1]\n",
    "k = 1"
   ]
  },
  {
   "cell_type": "code",
   "execution_count": 89,
   "metadata": {},
   "outputs": [
    {
     "data": {
      "text/plain": [
       "True"
      ]
     },
     "execution_count": 89,
     "metadata": {},
     "output_type": "execute_result"
    }
   ],
   "source": [
    "kLengthApart(nums, k)"
   ]
  },
  {
   "cell_type": "code",
   "execution_count": 83,
   "metadata": {},
   "outputs": [],
   "source": [
    "def kLengthApart(nums, k):\n",
    "    idx = 0\n",
    "    slow = 0\n",
    "    fast = 0\n",
    "    min_interval = len(nums) \n",
    "    while idx < len(nums):\n",
    "        if nums[idx] == 1: \n",
    "            if slow == fast:\n",
    "                fast = idx \n",
    "            else: \n",
    "                slow = fast \n",
    "                fast = idx \n",
    "            #print(\"slow\", slow ,\"fast\", fast)\n",
    "        if fast!= slow and nums[slow] != 0: \n",
    "            min_interval = min(min_interval, fast - slow)\n",
    "            #print(\"interval\", min_interval)\n",
    "        idx += 1\n",
    "    if min_interval >= k+1:\n",
    "        return True\n",
    "    return False"
   ]
  },
  {
   "cell_type": "markdown",
   "metadata": {},
   "source": [
    "# Longest Continuous Subarray With Absolute Diff Less Than or Equal to Limit"
   ]
  },
  {
   "cell_type": "code",
   "execution_count": 91,
   "metadata": {},
   "outputs": [],
   "source": [
    "# Input: nums = [8,2,4,7], limit = 4\n",
    "# Output: 2 \n",
    "# Explanation: All subarrays are: \n",
    "# [8] with maximum absolute diff |8-8| = 0 <= 4.\n",
    "# [8,2] with maximum absolute diff |8-2| = 6 > 4. \n",
    "# [8,2,4] with maximum absolute diff |8-2| = 6 > 4.\n",
    "# [8,2,4,7] with maximum absolute diff |8-2| = 6 > 4.\n",
    "# [2] with maximum absolute diff |2-2| = 0 <= 4.\n",
    "# [2,4] with maximum absolute diff |2-4| = 2 <= 4.\n",
    "# [2,4,7] with maximum absolute diff |2-7| = 5 > 4.\n",
    "# [4] with maximum absolute diff |4-4| = 0 <= 4.\n",
    "# [4,7] with maximum absolute diff |4-7| = 3 <= 4.\n",
    "# [7] with maximum absolute diff |7-7| = 0 <= 4. \n",
    "# Therefore, the size of the longest subarray is 2."
   ]
  },
  {
   "cell_type": "code",
   "execution_count": 92,
   "metadata": {},
   "outputs": [],
   "source": [
    "# Input: nums = [10,1,2,4,7,2], limit = 5\n",
    "# Output: 4 \n",
    "# Explanation: The subarray [2,4,7,2] is the longest \n",
    "# since the maximum absolute diff is |2-7| = 5 <= 5."
   ]
  },
  {
   "cell_type": "code",
   "execution_count": 93,
   "metadata": {},
   "outputs": [],
   "source": [
    "# Input: nums = [4,2,2,2,4,4,2,2], limit = 0\n",
    "# Output: 3"
   ]
  },
  {
   "cell_type": "code",
   "execution_count": 94,
   "metadata": {},
   "outputs": [],
   "source": [
    "# dont have to calcualte single number \n",
    "# left and right, not statisfied then shrink "
   ]
  },
  {
   "cell_type": "code",
   "execution_count": 137,
   "metadata": {},
   "outputs": [],
   "source": [
    "#longestSubarray(nums, limit)"
   ]
  },
  {
   "cell_type": "code",
   "execution_count": 264,
   "metadata": {},
   "outputs": [],
   "source": [
    "from collections import deque\n",
    "class Solution:\n",
    "    def longestSubarray(self, nums, limit):\n",
    "        up = deque() # 单调上升队列，头为区间最小值\n",
    "        down = deque() # 单调下降队列，头为区间最大值\n",
    "        l = 0\n",
    "        res = 0\n",
    "        for r in range(len(nums)):\n",
    "            while len(up) > 0 and nums[up[-1]] >= nums[r]: # 维护上升队列\n",
    "                up.pop()\n",
    "            # 注意队列里放的必须是下标而不是值，这样才能在移动左指针的时候更新队列\n",
    "            up.append(r) \n",
    "            while len(down) > 0 and nums[down[-1]] <= nums[r]: # 维护下降队列\n",
    "                down.pop()\n",
    "            down.append(r)\n",
    "            # 当发现条件不满足（即最大值-最小值>limit)时移动左指针\n",
    "            while l < r and nums[down[0]] - nums[up[0]] > limit: \n",
    "                if l == down[0]:\n",
    "                    down.popleft()\n",
    "                if l == up[0]:\n",
    "                    up.popleft()\n",
    "                l += 1\n",
    "            res = max(res, r - l + 1) # 更新结果\n",
    "        return res"
   ]
  },
  {
   "cell_type": "code",
   "execution_count": 266,
   "metadata": {},
   "outputs": [
    {
     "data": {
      "text/plain": [
       "3"
      ]
     },
     "execution_count": 266,
     "metadata": {},
     "output_type": "execute_result"
    }
   ],
   "source": [
    "nums = [4,8,5,1,7,9]\n",
    "limit = 6\n",
    "output =  3\n",
    "Solution().longestSubarray(nums, limit)\n"
   ]
  },
  {
   "cell_type": "markdown",
   "metadata": {},
   "source": [
    "# Find the Kth Smallest Sum of a Matrix With Sorted Rows"
   ]
  },
  {
   "cell_type": "code",
   "execution_count": null,
   "metadata": {},
   "outputs": [],
   "source": [
    "# Input: mat = [[1,3,11],[2,4,6]], k = 5\n",
    "# Output: 7\n",
    "# Explanation: Choosing one element from each row, the first k smallest sum are:\n",
    "# [1,2], [1,4], [3,2], [3,4], [1,6]. Where the 5th sum is 7.  "
   ]
  },
  {
   "cell_type": "code",
   "execution_count": null,
   "metadata": {},
   "outputs": [],
   "source": [
    "# Input: mat = [[1,3,11],[2,4,6]], k = 9\n",
    "# Output: 17"
   ]
  },
  {
   "cell_type": "code",
   "execution_count": null,
   "metadata": {},
   "outputs": [],
   "source": [
    "# Input: mat = [[1,10,10],[1,4,5],[2,3,6]], k = 7\n",
    "# Output: 9\n",
    "# Explanation: Choosing one element from each row, the first k smallest sum are:\n",
    "# [1,1,2], [1,1,3], [1,4,2], [1,4,3], [1,1,6], [1,5,2], [1,5,3]. Where the 7th sum is 9. "
   ]
  },
  {
   "cell_type": "code",
   "execution_count": 1,
   "metadata": {},
   "outputs": [],
   "source": [
    "# Input: mat = [[1,1,10],[2,2,9]], k = 7\n",
    "# Output: 12"
   ]
  },
  {
   "cell_type": "code",
   "execution_count": null,
   "metadata": {},
   "outputs": [],
   "source": [
    "# public int kthSmallest(int[][] mat, int k) {\n",
    "#     final int R = mat.length;\n",
    "#     final int C = mat[0].length;\n",
    "\n",
    "#     // max priority queue for the first row\n",
    "#     PriorityQueue<Integer> pq = new PriorityQueue<>((a, b) -> b - a);\n",
    "#     for (int c = 0; c < C; c++) {\n",
    "#         pq.add(mat[0][c]);\n",
    "#         // keep pq size less than or equal to k\n",
    "#         if (pq.size() > k) {\n",
    "#             pq.poll();\n",
    "#         }\n",
    "#     }\n",
    "\n",
    "#     for (int r = 1; r < R; r++) {\n",
    "#         // max priority queue for the i-th row\n",
    "#         PriorityQueue<Integer> nextPq = new PriorityQueue<>((a, b) -> b - a);\n",
    "#         for (int i : pq) {\n",
    "#             for (int c = 0; c < C; c++) {\n",
    "#                 nextPq.add(i + mat[r][c]);\n",
    "#                 // keep pq size less than or equal to k\n",
    "#                 if (nextPq.size() > k) {\n",
    "#                     nextPq.poll();\n",
    "#                 }\n",
    "#             }\n",
    "#         }\n",
    "\n",
    "#         pq = nextPq;\n",
    "#     }\n",
    "\n",
    "#     return pq.poll();\n",
    "# }"
   ]
  },
  {
   "cell_type": "code",
   "execution_count": 258,
   "metadata": {},
   "outputs": [],
   "source": [
    "class Solution:\n",
    "    def kthSmallest(self, mat, k):\n",
    "        h = mat[0][:]\n",
    "        for row in mat[1:]: # m \n",
    "            #print([(j,i) for i in row for j in h])\n",
    "            h = sorted([i+j for i in row for j in h])[:k] #n * k log *k \n",
    "            print(h)\n",
    "        return h[k-1]"
   ]
  },
  {
   "cell_type": "code",
   "execution_count": 259,
   "metadata": {},
   "outputs": [],
   "source": [
    "mat = [[1,10,10],\n",
    "       [1,4,5],\n",
    "       [2,3,6]]\n",
    "k = 7"
   ]
  },
  {
   "cell_type": "code",
   "execution_count": 261,
   "metadata": {
    "scrolled": true
   },
   "outputs": [
    {
     "name": "stdout",
     "output_type": "stream",
     "text": [
      "[2, 5, 6, 11, 11, 14, 14]\n",
      "[4, 5, 7, 8, 8, 8, 9]\n"
     ]
    },
    {
     "data": {
      "text/plain": [
       "9"
      ]
     },
     "execution_count": 261,
     "metadata": {},
     "output_type": "execute_result"
    }
   ],
   "source": [
    "Solution().kthSmallest(mat, k)"
   ]
  },
  {
   "cell_type": "code",
   "execution_count": null,
   "metadata": {},
   "outputs": [],
   "source": []
  }
 ],
 "metadata": {
  "kernelspec": {
   "display_name": "Python 3",
   "language": "python",
   "name": "python3"
  },
  "language_info": {
   "codemirror_mode": {
    "name": "ipython",
    "version": 3
   },
   "file_extension": ".py",
   "mimetype": "text/x-python",
   "name": "python",
   "nbconvert_exporter": "python",
   "pygments_lexer": "ipython3",
   "version": "3.7.3-final"
  },
  "nbTranslate": {
   "displayLangs": [
    "*"
   ],
   "hotkey": "alt-t",
   "langInMainMenu": true,
   "sourceLang": "en",
   "targetLang": "fr",
   "useGoogleTranslate": true
  },
  "toc": {
   "base_numbering": 1,
   "nav_menu": {},
   "number_sections": true,
   "sideBar": true,
   "skip_h1_title": false,
   "title_cell": "Table of Contents",
   "title_sidebar": "Contents",
   "toc_cell": false,
   "toc_position": {},
   "toc_section_display": true,
   "toc_window_display": false
  },
  "varInspector": {
   "cols": {
    "lenName": 16,
    "lenType": 16,
    "lenVar": 40
   },
   "kernels_config": {
    "python": {
     "delete_cmd_postfix": "",
     "delete_cmd_prefix": "del ",
     "library": "var_list.py",
     "varRefreshCmd": "print(var_dic_list())"
    },
    "r": {
     "delete_cmd_postfix": ") ",
     "delete_cmd_prefix": "rm(",
     "library": "var_list.r",
     "varRefreshCmd": "cat(var_dic_list()) "
    }
   },
   "types_to_exclude": [
    "module",
    "function",
    "builtin_function_or_method",
    "instance",
    "_Feature"
   ],
   "window_display": false
  }
 },
 "nbformat": 4,
 "nbformat_minor": 2
}