{
 "cells": [
  {
   "cell_type": "markdown",
   "metadata": {},
   "source": [
    "# 1417. Reformat The String"
   ]
  },
  {
   "cell_type": "code",
   "execution_count": 3,
   "metadata": {},
   "outputs": [],
   "source": [
    "#Input: s = \"a0b1c2\"\n",
    "#Output: \"0a1b2c\"\n",
    "#Explanation: No two adjacent characters have the same\n",
    "#type in \"0a1b2c\". \"a0b1c2\", \"0a1b2c\", \"0c2a1b\" are also valid permutations."
   ]
  },
  {
   "cell_type": "code",
   "execution_count": 39,
   "metadata": {},
   "outputs": [],
   "source": [
    "class Solution:\n",
    "    def reformat(self, s):\n",
    "        alpha_list = []\n",
    "        num_list = []\n",
    "        res = \"\"\n",
    "        for x in s:\n",
    "            if x.isalpha() == True:\n",
    "                alpha_list.append(x)\n",
    "            else:\n",
    "                num_list.append(x)\n",
    "        min_len = min(len(num_list), len(alpha_list))\n",
    "        lst1 = [] # first character list \n",
    "        lst2 = [] \n",
    "        if len(num_list) == min_len:\n",
    "            lst2 = num_list\n",
    "            lst1 = alpha_list\n",
    "        else:\n",
    "            lst2 = alpha_list\n",
    "            lst1 = num_list\n",
    "\n",
    "        for i in range(min_len):\n",
    "            res +=  lst1[i] + lst2[i]\n",
    "        if len(lst1) - min_len > 1:\n",
    "            return \"\"\n",
    "        if len(lst1) - min_len == 0:\n",
    "            return res\n",
    "        else: \n",
    "            res += lst1[-1]\n",
    "        return res"
   ]
  },
  {
   "cell_type": "code",
   "execution_count": 40,
   "metadata": {},
   "outputs": [
    {
     "data": {
      "text/plain": [
       "'a0b1c2'"
      ]
     },
     "execution_count": 40,
     "metadata": {},
     "output_type": "execute_result"
    }
   ],
   "source": [
    "Solution().reformat(\"a0b1c2\")"
   ]
  },
  {
   "cell_type": "markdown",
   "metadata": {},
   "source": [
    "#  Reformat The String"
   ]
  },
  {
   "cell_type": "code",
   "execution_count": 100,
   "metadata": {},
   "outputs": [],
   "source": [
    "class Solution:\n",
    "    def displayTable(self, orders):\n",
    "    \n",
    "        order_dict = {}\n",
    "        item_set = set()\n",
    "        for order in orders:\n",
    "            table = int(order[1])\n",
    "            item = order[2]\n",
    "            item_set.add(item)\n",
    "            cur_order = order_dict.get(table, {})\n",
    "            cur_order[item] = cur_order.setdefault(item, 0)+ 1\n",
    "            order_dict[table] = cur_order\n",
    "\n",
    "\n",
    "        col_lst = sorted(list(item_set))\n",
    "        col_lst = ['Table'] + col_lst \n",
    "        col_lst\n",
    "        res = []\n",
    "        res.append(col_lst)\n",
    "\n",
    "        m = len(res)\n",
    "        n = len(res[0])\n",
    "        for table, item in sorted(order_dict.items()):\n",
    "            temp = ['0' for i in range(n)]\n",
    "            temp[0] = str(table) \n",
    "            for d, q in item.items():\n",
    "                idx =  col_lst.index(d)\n",
    "                temp[idx] = str(q)\n",
    "            res.append(temp)\n",
    "        return res\n",
    "        \n",
    "        "
   ]
  },
  {
   "cell_type": "code",
   "execution_count": 101,
   "metadata": {},
   "outputs": [
    {
     "data": {
      "text/plain": [
       "[['Table', 'Beef Burrito', 'Ceviche', 'Fried Chicken', 'Water'],\n",
       " ['3', '0', '2', '1', '0'],\n",
       " ['5', '0', '1', '0', '1'],\n",
       " ['10', '1', '0', '0', '0']]"
      ]
     },
     "execution_count": 101,
     "metadata": {},
     "output_type": "execute_result"
    }
   ],
   "source": [
    "orders = [\n",
    "    [\"David\",\"3\",\"Ceviche\"],\n",
    "    [\"Corina\",\"10\",\"Beef Burrito\"],\n",
    "    [\"David\",\"3\",\"Fried Chicken\"],\n",
    "    [\"Carla\",\"5\",\"Water\"],\n",
    "    [\"Carla\",\"5\",\"Ceviche\"],\n",
    "    [\"Rous\",\"3\",\"Ceviche\"]\n",
    "]\n",
    "Output = [\n",
    "    [\"Table\",\"Beef Burrito\",\"Ceviche\",\"Fried Chicken\",\"Water\"],\n",
    "    [\"3\",\"0\",\"2\",\"1\",\"0\"],\n",
    "    [\"5\",\"0\",\"1\",\"0\",\"1\"],\n",
    "    [\"10\",\"1\",\"0\",\"0\",\"0\"]\n",
    "] \n",
    "Solution().displayTable(orders)"
   ]
  },
  {
   "cell_type": "markdown",
   "metadata": {},
   "source": [
    "# 1419. Minimum Number of Frogs Croaking"
   ]
  },
  {
   "cell_type": "code",
   "execution_count": 123,
   "metadata": {},
   "outputs": [],
   "source": [
    "class Solution:\n",
    "    def minNumberOfFrogs(croakOfFrogs) :\n",
    "        states = {k: 0 for k in range(0, 6)}\n",
    "        # states[k] == v means there are currently `v` machines at state `k`\n",
    "        # there are infinite number of machines at state 0, waiting to be fed a \"c\"\n",
    "        res = 0 # maximum number of ongoing machines\n",
    "\n",
    "        for v in croakOfFrogs:\n",
    "            if v == \"c\":\n",
    "                states[1] += 1 # one machine goes from state 0 to state 1\n",
    "            elif v == \"r\":\n",
    "                if states[1] > 0:\n",
    "                    states[1] -= 1 # one machine goes from state 1\n",
    "                    states[2] += 1 # to state 2\n",
    "            elif v == \"o\":\n",
    "                if states[2] > 0:\n",
    "                    states[2] -= 1 # one machine goes from state 2\n",
    "                    states[3] += 1 # to state 3\n",
    "            elif v == \"a\":\n",
    "                if states[3] > 0:\n",
    "                    states[3] -= 1\n",
    "                    states[4] += 1\n",
    "            elif v == \"k\":\n",
    "                if states[4] > 0:\n",
    "                    states[4] -= 1\n",
    "                    states[5] += 1\n",
    "\n",
    "            res = max(res, sum(states[k] for k in range(1, 5))) # how many ongoing machines at this time\n",
    "\n",
    "        if any(states[k] != 0 for k in range(1, 5)): # if there are still ongoing machines at the end\n",
    "            return -1 # invalid\n",
    "        else: # all machines are initial or final\n",
    "            return res"
   ]
  },
  {
   "cell_type": "code",
   "execution_count": 125,
   "metadata": {},
   "outputs": [
    {
     "data": {
      "text/plain": [
       "2"
      ]
     },
     "execution_count": 125,
     "metadata": {},
     "output_type": "execute_result"
    }
   ],
   "source": [
    "croakOfFrogs = \"croakcroak\"\n",
    "Output = 1 \n",
    "#Explanation: One frog yelling \"croak\" twice.\n",
    "Solution. minNumberOfFrogs(croakOfFrogs)"
   ]
  },
  {
   "cell_type": "markdown",
   "metadata": {},
   "source": [
    "# 1420. Build Array Where You Can Find The Maximum Exactly K Comparisons"
   ]
  },
  {
   "cell_type": "code",
   "execution_count": null,
   "metadata": {},
   "outputs": [],
   "source": [
    "# arr has n integer\n",
    "# 1 <= arr[i] <= m \n",
    "# k = search_cost, number is time update maximun "
   ]
  },
  {
   "cell_type": "code",
   "execution_count": null,
   "metadata": {},
   "outputs": [],
   "source": [
    "#Input: n = 2, m = 3, k = 1\n",
    "#Output: 6\n",
    "#Explanation: The possible arrays are [1, 1], [2, 1], [2, 2], [3, 1], [3, 2] [3, 3]\n",
    "# two element in one arr, only update once, meaning, the first item is the greatest one \n",
    "# k = 1, m > n, m chose 2"
   ]
  },
  {
   "cell_type": "code",
   "execution_count": 103,
   "metadata": {},
   "outputs": [],
   "source": [
    "# Input: n = 5, m = 2, k = 3\n",
    "# Output: 0\n",
    "# Explanation: There are no possible arrays that satisify the mentioned conditions.\n",
    "# the max value should be in  pos 2 , k at most can be 2 "
   ]
  },
  {
   "cell_type": "code",
   "execution_count": 104,
   "metadata": {},
   "outputs": [],
   "source": [
    "# Input: n = 9, m = 1, k = 1\n",
    "# Output: 1\n",
    "# Explanation: The only possible array is [1, 1, 1, 1, 1, 1, 1, 1, 1]\n",
    "# the max value can be pos 0 "
   ]
  },
  {
   "cell_type": "code",
   "execution_count": null,
   "metadata": {},
   "outputs": [],
   "source": [
    "# Input: n = 50, m = 100, k = 25\n",
    "# Output: 34549172\n",
    "# Explanation: Don't forget to compute the answer modulo 1000000007\n",
    "# max valu should be in 24 pos "
   ]
  },
  {
   "cell_type": "code",
   "execution_count": 129,
   "metadata": {},
   "outputs": [],
   "source": [
    "from functools import lru_cache\n",
    "# \n",
    "class Solution:\n",
    "    def numOfArrays(self, n, m, k) :\n",
    "        \n",
    "        @lru_cache(None)\n",
    "        def dp(arr_len, lrg_num, inc_times):\n",
    "            if arr_len == 1:\n",
    "                return 1 if inc_times == 1 else 0\n",
    "            if inc_times == 0:\n",
    "                return 0\n",
    "            \n",
    "            ans = 0\n",
    "            for num in range(1, m + 1):\n",
    "                if num <= lrg_num:\n",
    "                    ans += dp(arr_len - 1, lrg_num, inc_times)\n",
    "                else:\n",
    "                    ans += dp(arr_len - 1, num, inc_times - 1)\n",
    "                \n",
    "            return ans % 1000000007\n",
    "        \n",
    "        return sum([dp(n, i, k) for i in range(1, m + 1)]) % 1000000007"
   ]
  },
  {
   "cell_type": "code",
   "execution_count": 132,
   "metadata": {},
   "outputs": [
    {
     "data": {
      "text/plain": [
       "6"
      ]
     },
     "execution_count": 132,
     "metadata": {},
     "output_type": "execute_result"
    }
   ],
   "source": [
    "n = 2\n",
    "m = 3 \n",
    "k = 1\n",
    "# dont know .. how to do. \n",
    "Solution().numOfArrays(n, m, k)"
   ]
  },
  {
   "cell_type": "code",
   "execution_count": null,
   "metadata": {},
   "outputs": [],
   "source": []
  }
 ],
 "metadata": {
  "kernelspec": {
   "display_name": "Python 3",
   "language": "python",
   "name": "python3"
  },
  "language_info": {
   "codemirror_mode": {
    "name": "ipython",
    "version": 3
   },
   "file_extension": ".py",
   "mimetype": "text/x-python",
   "name": "python",
   "nbconvert_exporter": "python",
   "pygments_lexer": "ipython3",
   "version": "3.7.3"
  },
  "nbTranslate": {
   "displayLangs": [
    "*"
   ],
   "hotkey": "alt-t",
   "langInMainMenu": true,
   "sourceLang": "en",
   "targetLang": "fr",
   "useGoogleTranslate": true
  },
  "toc": {
   "base_numbering": 1,
   "nav_menu": {},
   "number_sections": true,
   "sideBar": true,
   "skip_h1_title": false,
   "title_cell": "Table of Contents",
   "title_sidebar": "Contents",
   "toc_cell": false,
   "toc_position": {},
   "toc_section_display": true,
   "toc_window_display": false
  },
  "varInspector": {
   "cols": {
    "lenName": 16,
    "lenType": 16,
    "lenVar": 40
   },
   "kernels_config": {
    "python": {
     "delete_cmd_postfix": "",
     "delete_cmd_prefix": "del ",
     "library": "var_list.py",
     "varRefreshCmd": "print(var_dic_list())"
    },
    "r": {
     "delete_cmd_postfix": ") ",
     "delete_cmd_prefix": "rm(",
     "library": "var_list.r",
     "varRefreshCmd": "cat(var_dic_list()) "
    }
   },
   "types_to_exclude": [
    "module",
    "function",
    "builtin_function_or_method",
    "instance",
    "_Feature"
   ],
   "window_display": false
  }
 },
 "nbformat": 4,
 "nbformat_minor": 2
}
