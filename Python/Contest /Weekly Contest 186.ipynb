{
 "cells": [
  {
   "cell_type": "markdown",
   "metadata": {},
   "source": [
    "## 5392. Maximum Score After Splitting a String"
   ]
  },
  {
   "cell_type": "code",
   "execution_count": 258,
   "metadata": {},
   "outputs": [],
   "source": [
    "#Given a string s of zeros and ones,\n",
    "#return the maximum score after splitting the string into two non-empty substrings (i.e. left substring and right substring).\n",
    "\n",
    "#The score after splitting a string is the number of zeros in the left substring \n",
    "# plus the number of ones in the right substring."
   ]
  },
  {
   "cell_type": "code",
   "execution_count": 259,
   "metadata": {},
   "outputs": [],
   "source": [
    "s = \"011101\"\n",
    "# Output: 5 \n",
    "# Explanation: \n",
    "# All possible ways of splitting s into two non-empty substrings are:\n",
    "# left = \"0\" and right = \"11101\", score = 1 + 4 = 5 \n",
    "# left = \"01\" and right = \"1101\", score = 1 + 3 = 4 \n",
    "# left = \"011\" and right = \"101\", score = 1 + 2 = 3 \n",
    "# left = \"0111\" and right = \"01\", score = 1 + 1 = 2 \n",
    "# left = \"01110\" and right = \"1\", score = 2 + 1 = 3"
   ]
  },
  {
   "cell_type": "code",
   "execution_count": 260,
   "metadata": {},
   "outputs": [],
   "source": [
    "#Input: s = \"00111\"\n",
    "#Output: 5\n",
    "#Explanation: When left = \"00\" and right = \"111\", we get the maximum score = 2 + 3 = 5"
   ]
  },
  {
   "cell_type": "code",
   "execution_count": 261,
   "metadata": {},
   "outputs": [],
   "source": [
    "# Input: s = \"1111\"\n",
    "# Output: 3"
   ]
  },
  {
   "cell_type": "code",
   "execution_count": 262,
   "metadata": {},
   "outputs": [],
   "source": [
    "class Solution:\n",
    "    def maxScore(self, s):\n",
    "        \"\"\"\n",
    "        :type s: str\n",
    "        :rtype: int\n",
    "        \"\"\"\n",
    "        res = 0\n",
    "        for i in range(1, len(s)):\n",
    "            left = s[:i]\n",
    "            right = s[i:]\n",
    "            print(left, right )\n",
    "            score = left.count(\"0\") + right.count(\"1\")\n",
    "            res = max(res, score)\n",
    "        return res"
   ]
  },
  {
   "cell_type": "code",
   "execution_count": 244,
   "metadata": {},
   "outputs": [
    {
     "name": "stdout",
     "output_type": "stream",
     "text": [
      "0 1001\n",
      "01 001\n",
      "010 01\n",
      "0100 1\n"
     ]
    },
    {
     "data": {
      "text/plain": [
       "4"
      ]
     },
     "execution_count": 244,
     "metadata": {},
     "output_type": "execute_result"
    }
   ],
   "source": [
    "s = \"01001\"\n",
    "Solution().maxScore(s)"
   ]
  },
  {
   "cell_type": "markdown",
   "metadata": {},
   "source": [
    "## 5393. Maximum Points You Can Obtain from Cards"
   ]
  },
  {
   "cell_type": "code",
   "execution_count": 263,
   "metadata": {},
   "outputs": [],
   "source": [
    "# There are several cards arranged in a row, and each card has an associated number of points \n",
    "# The points are given in the integer array cardPoints.\n",
    "\n",
    "# In one step, you can take one card from the beginning or from the end of the row.\n",
    "# You have to take exactly k cards.\n",
    "\n",
    "# Your score is the sum of the points of the cards you have taken.\n",
    "\n",
    "# Given the integer array cardPoints and the integer k, return the maximum score you can obtain."
   ]
  },
  {
   "cell_type": "code",
   "execution_count": 264,
   "metadata": {},
   "outputs": [],
   "source": [
    "#Input: \n",
    "cardPoints = [1,2,3,4,5,6,1]\n",
    "k = 3\n",
    "# Output: 12\n",
    "# Explanation: After the first step, your score will always be 1.\n",
    "# However, choosing the rightmost card first will maximize your total score. \n",
    "# The optimal strategy is to take the three cards on the right, \n",
    "# giving a final score of 1 + 6 + 5 = 12."
   ]
  },
  {
   "cell_type": "code",
   "execution_count": 265,
   "metadata": {},
   "outputs": [],
   "source": [
    "# Input: cardPoints = [9,7,7,9,7,7,9], k = 7\n",
    "# Output: 55\n",
    "# Explanation: You have to take all the cards. Your score is the sum of points of all cards."
   ]
  },
  {
   "cell_type": "code",
   "execution_count": 266,
   "metadata": {},
   "outputs": [],
   "source": [
    "# Input: cardPoints = [1,1000,1], k = 1\n",
    "# Output: 1\n",
    "# Explanation: You cannot take the card in the middle. Your best score is 1. "
   ]
  },
  {
   "cell_type": "code",
   "execution_count": 267,
   "metadata": {},
   "outputs": [],
   "source": [
    "# Input: cardPoints = [1,79,80,1,1,1,200,1], k = 3\n",
    "# Output: 202"
   ]
  },
  {
   "cell_type": "code",
   "execution_count": 268,
   "metadata": {},
   "outputs": [],
   "source": [
    "class Solution:\n",
    "    def maxScore(self, cardPoints, k):\n",
    "        if k == len(cardPoints):\n",
    "            return sum(cardPoints)\n",
    "        if k == len(cardPoints) - 1:\n",
    "            return sum(cardPoints) - min(cardPoints)\n",
    "        \n",
    "        candidate = cardPoints[-k:] + cardPoints[:k]\n",
    "        start_index = 0\n",
    "        import numpy as np\n",
    "        cum_arr = np.cumsum(candidate)\n",
    "        res = cum_arr[k-1]\n",
    "        for i in range(k, len(candidate)):\n",
    "            diff = cum_arr[i] - cum_arr[start_index]\n",
    "            res = max(res, diff)\n",
    "            start_index += 1\n",
    "        return res "
   ]
  },
  {
   "cell_type": "code",
   "execution_count": 269,
   "metadata": {},
   "outputs": [
    {
     "data": {
      "text/plain": [
       "12"
      ]
     },
     "execution_count": 269,
     "metadata": {},
     "output_type": "execute_result"
    }
   ],
   "source": [
    "Solution().maxScore(cardPoints, k)"
   ]
  },
  {
   "cell_type": "markdown",
   "metadata": {},
   "source": [
    "## 5394. Diagonal Traverse II"
   ]
  },
  {
   "cell_type": "code",
   "execution_count": 270,
   "metadata": {},
   "outputs": [],
   "source": [
    "#Given a list of lists of integers, nums, \n",
    "#return all elements of nums in diagonal order as shown in the below images."
   ]
  },
  {
   "cell_type": "code",
   "execution_count": 271,
   "metadata": {},
   "outputs": [],
   "source": [
    "# Input: nums = [[1,2,3],[4,5,6],[7,8,9]]\n",
    "# Output: [1,4,2,7,5,3,8,6,9]"
   ]
  },
  {
   "cell_type": "code",
   "execution_count": 272,
   "metadata": {},
   "outputs": [
    {
     "data": {
      "text/plain": [
       "'\\n[0,0] 0\\n\\n[1,0] 1\\n[0,1]\\n\\n[2,0] 2\\n[1,1]\\n[0,2]\\n\\n[2,1] 3\\n[1,2]\\n[2,2]\\n'"
      ]
     },
     "execution_count": 272,
     "metadata": {},
     "output_type": "execute_result"
    }
   ],
   "source": [
    "\"\"\"\n",
    "[0,0] 0\n",
    "\n",
    "[1,0] 1\n",
    "[0,1]\n",
    "\n",
    "[2,0] 2\n",
    "[1,1]\n",
    "[0,2]\n",
    "\n",
    "[2,1] 3\n",
    "[1,2]\n",
    "[2,2]\n",
    "\"\"\""
   ]
  },
  {
   "cell_type": "code",
   "execution_count": 273,
   "metadata": {},
   "outputs": [],
   "source": [
    "class Solution:\n",
    "    def findDiagonalOrder1(self, nums):\n",
    "        \"\"\"\n",
    "        :type nums: List[List[int]]\n",
    "        :rtype: List[int]\n",
    "        \"\"\"\n",
    "        \n",
    "\n",
    "        m = len(nums)\n",
    "        n = max([len(x) for x in nums])\n",
    "\n",
    "        #grid = [[0 for j in range(n)] for i in range(m)]\n",
    "        grid = []\n",
    "        for num in nums:\n",
    "            if len(num) == n:\n",
    "                grid.append(num)\n",
    "            else: \n",
    "                fixed_list = num + ['0' for x in range(n - len(num))]\n",
    "                grid.append(fixed_list)\n",
    "\n",
    "        res = []\n",
    "        flag_t = 1\n",
    "        for i in range(0, m+n-1):\n",
    "            idx_sum = i\n",
    "            if idx_sum < m:\n",
    "                row = idx_sum \n",
    "                col = 0\n",
    "            else:\n",
    "                row = idx_sum - flag_t \n",
    "                col = flag_t\n",
    "                flag_t += 1\n",
    "            while row >= 0 and col < n :\n",
    "                print(row, col)\n",
    "                item = grid[row][col]\n",
    "                if item != '0':\n",
    "                    res.append(item)\n",
    "                col += 1\n",
    "                row -= 1\n",
    "        return res\n",
    "    def findDiagonalOrder(self, nums):\n",
    "    #\n",
    "        res = []\n",
    "        for i, r in enumerate(nums):\n",
    "            for j, a in enumerate(r):\n",
    "                if len(res) <= i + j:\n",
    "                    res.append([])\n",
    "                res[i + j].append(a)\n",
    "\n",
    "        return [a for r in res for a in reversed(r)]"
   ]
  },
  {
   "cell_type": "code",
   "execution_count": 274,
   "metadata": {},
   "outputs": [
    {
     "data": {
      "text/plain": [
       "[6, 8, 6, 1, 6, 16]"
      ]
     },
     "execution_count": 274,
     "metadata": {},
     "output_type": "execute_result"
    }
   ],
   "source": [
    "#nums = [[1,2,3],[4],[5,6,7],[8],[9,10,11]]\n",
    "nums = [[1,2,3],[4,5,6],[7,8,9]]\n",
    "Solution().findDiagonalOrder([[6],[8],[6,1,6,16]])"
   ]
  },
  {
   "cell_type": "markdown",
   "metadata": {},
   "source": [
    "## 5180. Constrained Subset Sum"
   ]
  },
  {
   "cell_type": "code",
   "execution_count": 276,
   "metadata": {},
   "outputs": [],
   "source": [
    "# Given an integer array nums and an integer k, \n",
    "# return the maximum sum of a non-empty subset of that array \n",
    "# such that for every two consecutive integers in the subset, nums[i] and nums[j], \n",
    "# where i < j, the condition j - i <= k is satisfied.\n",
    "\n",
    "# A subset of an array is obtained by deleting some number of elements \n",
    "# (can be zero) from the array, leaving the remaining elements in their"
   ]
  },
  {
   "cell_type": "code",
   "execution_count": 277,
   "metadata": {},
   "outputs": [],
   "source": [
    "# Input: nums = [10,2,-10,5,20], k = 2\n",
    "# Output: 37\n",
    "# Explanation: The subset is [10, 2, 5, 20]."
   ]
  },
  {
   "cell_type": "code",
   "execution_count": 278,
   "metadata": {},
   "outputs": [],
   "source": [
    "# Input: nums = [-1,-2,-3], k = 1\n",
    "# Output: -1\n",
    "# Explanation: The subset must be non-empty, so we choose the largest number."
   ]
  },
  {
   "cell_type": "code",
   "execution_count": 279,
   "metadata": {},
   "outputs": [],
   "source": [
    "# Input: nums = [10,-2,-10,-5,20], k = 2\n",
    "# Output: 23\n",
    "# Explanation: The subset is [10, -2, -5, 20]."
   ]
  },
  {
   "cell_type": "code",
   "execution_count": null,
   "metadata": {},
   "outputs": [],
   "source": []
  }
 ],
 "metadata": {
  "kernelspec": {
   "display_name": "Python 3",
   "language": "python",
   "name": "python3"
  },
  "language_info": {
   "codemirror_mode": {
    "name": "ipython",
    "version": 3
   },
   "file_extension": ".py",
   "mimetype": "text/x-python",
   "name": "python",
   "nbconvert_exporter": "python",
   "pygments_lexer": "ipython3",
   "version": "3.7.3"
  },
  "nbTranslate": {
   "displayLangs": [
    "*"
   ],
   "hotkey": "alt-t",
   "langInMainMenu": true,
   "sourceLang": "en",
   "targetLang": "fr",
   "useGoogleTranslate": true
  },
  "toc": {
   "base_numbering": 1,
   "nav_menu": {},
   "number_sections": true,
   "sideBar": true,
   "skip_h1_title": false,
   "title_cell": "Table of Contents",
   "title_sidebar": "Contents",
   "toc_cell": false,
   "toc_position": {},
   "toc_section_display": true,
   "toc_window_display": false
  },
  "varInspector": {
   "cols": {
    "lenName": 16,
    "lenType": 16,
    "lenVar": 40
   },
   "kernels_config": {
    "python": {
     "delete_cmd_postfix": "",
     "delete_cmd_prefix": "del ",
     "library": "var_list.py",
     "varRefreshCmd": "print(var_dic_list())"
    },
    "r": {
     "delete_cmd_postfix": ") ",
     "delete_cmd_prefix": "rm(",
     "library": "var_list.r",
     "varRefreshCmd": "cat(var_dic_list()) "
    }
   },
   "types_to_exclude": [
    "module",
    "function",
    "builtin_function_or_method",
    "instance",
    "_Feature"
   ],
   "window_display": false
  }
 },
 "nbformat": 4,
 "nbformat_minor": 2
}
