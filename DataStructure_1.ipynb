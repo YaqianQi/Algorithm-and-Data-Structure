{
 "cells": [
  {
   "cell_type": "markdown",
   "metadata": {},
   "source": [
    "# Q1 reverse array "
   ]
  },
  {
   "cell_type": "code",
   "execution_count": 9,
   "metadata": {},
   "outputs": [],
   "source": [
    "def reverse_array(nums):\n",
    "    low = 0\n",
    "    high = len(nums)-1\n",
    "    while(high>low):\n",
    "        nums[high], nums[low] = swap(nums[high], nums[low])\n",
    "        high -= 1\n",
    "        low+=1 \n",
    "    return nums\n",
    "def swap(a,b):\n",
    "    temp = a\n",
    "    a = b\n",
    "    b = temp \n",
    "    return a,b"
   ]
  },
  {
   "cell_type": "code",
   "execution_count": 13,
   "metadata": {
    "scrolled": true
   },
   "outputs": [
    {
     "data": {
      "text/plain": [
       "[5, 4, 3, 2, 1]"
      ]
     },
     "execution_count": 13,
     "metadata": {},
     "output_type": "execute_result"
    }
   ],
   "source": [
    "nums = [1,2,3,4,5]\n",
    "reverse_array(nums)"
   ]
  },
  {
   "cell_type": "markdown",
   "metadata": {},
   "source": [
    "# Q2 check palindrome "
   ]
  },
  {
   "cell_type": "code",
   "execution_count": 47,
   "metadata": {},
   "outputs": [],
   "source": [
    "def check_palindrome_string(s):\n",
    "    if(len(s) == 0):\n",
    "        return False\n",
    "    low = 0\n",
    "    high = len(s)-1\n",
    "    while(low<high):\n",
    "        if s[low]==s[high]:\n",
    "            low+=1\n",
    "            high-=1\n",
    "        else:\n",
    "            return False\n",
    "    return True\n",
    "def check_palindrome_string2(s):\n",
    "    if(len(s) == 0):\n",
    "        return False\n",
    "    s2 = s[::-1]\n",
    "    if s == s2:\n",
    "        return True\n",
    "    else:\n",
    "        return False"
   ]
  },
  {
   "cell_type": "code",
   "execution_count": 49,
   "metadata": {},
   "outputs": [
    {
     "data": {
      "text/plain": [
       "True"
      ]
     },
     "execution_count": 49,
     "metadata": {},
     "output_type": "execute_result"
    }
   ],
   "source": [
    "s = 'radar'\n",
    "check_palindrome_string(s)"
   ]
  },
  {
   "cell_type": "markdown",
   "metadata": {},
   "source": [
    "# Q3 Integer reversion  problem "
   ]
  },
  {
   "cell_type": "code",
   "execution_count": 74,
   "metadata": {},
   "outputs": [],
   "source": [
    "# 4321 -> 1234 \n",
    "def reverse_integer(num):\n",
    "    res = 0\n",
    "    reminder = 0\n",
    "    while num>0 :\n",
    "        reminder = num % 10\n",
    "        num= num//10\n",
    "        res = res*10 + reminder \n",
    "    return res"
   ]
  },
  {
   "cell_type": "code",
   "execution_count": 75,
   "metadata": {},
   "outputs": [
    {
     "data": {
      "text/plain": [
       "1234"
      ]
     },
     "execution_count": 75,
     "metadata": {},
     "output_type": "execute_result"
    }
   ],
   "source": [
    "num = 4321\n",
    "reverse_integer(num)"
   ]
  },
  {
   "cell_type": "markdown",
   "metadata": {},
   "source": [
    "# Q4 Finding duplicates for a list "
   ]
  },
  {
   "cell_type": "code",
   "execution_count": 106,
   "metadata": {},
   "outputs": [],
   "source": [
    "def find_duplicates_list(nums):\n",
    "    res = []\n",
    "    for num in nums:\n",
    "        if nums[abs(num)]> 0:\n",
    "            nums[abs(num)] = -nums[abs(num)]\n",
    "        else:\n",
    "            res.append(abs(num))\n",
    "    return res"
   ]
  },
  {
   "cell_type": "code",
   "execution_count": 107,
   "metadata": {},
   "outputs": [
    {
     "data": {
      "text/plain": [
       "[2]"
      ]
     },
     "execution_count": 107,
     "metadata": {},
     "output_type": "execute_result"
    }
   ],
   "source": [
    "nums = [1,2,2,3]\n",
    "find_duplicates_list(nums)"
   ]
  },
  {
   "cell_type": "markdown",
   "metadata": {},
   "source": [
    "# Q5 Anagram problem "
   ]
  },
  {
   "cell_type": "code",
   "execution_count": 117,
   "metadata": {},
   "outputs": [],
   "source": [
    "#O(NLOGN)\n",
    "def Anagram_problem(s1, s2):\n",
    "    s1 = sorted(s1)\n",
    "    s2 = sorted(s2)\n",
    "\n",
    "    if s1 == s2:\n",
    "        return True\n",
    "    else:\n",
    "        return False"
   ]
  },
  {
   "cell_type": "code",
   "execution_count": 118,
   "metadata": {},
   "outputs": [
    {
     "data": {
      "text/plain": [
       "True"
      ]
     },
     "execution_count": 118,
     "metadata": {},
     "output_type": "execute_result"
    }
   ],
   "source": [
    "s1 = 'adf'\n",
    "s2 = 'fda'\n",
    "Anagram_problem(s1, s2)"
   ]
  },
  {
   "cell_type": "markdown",
   "metadata": {},
   "source": [
    "# Q6  Largest sum subarray problem "
   ]
  },
  {
   "cell_type": "code",
   "execution_count": 140,
   "metadata": {},
   "outputs": [],
   "source": [
    "def Find_larget_subarray(nums):\n",
    "    cur_max = 0 \n",
    "    global_max = 0\n",
    "    for i in range(len(nums)):\n",
    "        cur_max = max(nums[i],cur_max + nums[i]) # [3][1,2,3]\n",
    "        global_max = max(cur_max, global_max) # global \n",
    "    return  global_max"
   ]
  },
  {
   "cell_type": "code",
   "execution_count": 142,
   "metadata": {},
   "outputs": [
    {
     "data": {
      "text/plain": [
       "5"
      ]
     },
     "execution_count": 142,
     "metadata": {},
     "output_type": "execute_result"
    }
   ],
   "source": [
    "nums = [1,2,-3,-4,5]\n",
    "Find_larget_subarray(nums)"
   ]
  },
  {
   "cell_type": "markdown",
   "metadata": {},
   "source": [
    "# Q7 Find middle node in linked list "
   ]
  },
  {
   "cell_type": "code",
   "execution_count": 219,
   "metadata": {},
   "outputs": [],
   "source": [
    "class Node:\n",
    "    def __init__(self, val):\n",
    "        self.val = val\n",
    "        self.next = None \n",
    "class ListNode:\n",
    "    def __init__(self):\n",
    "        self.head = None\n",
    "    def push(self, new_data):\n",
    "        new_node = Node(new_data)\n",
    "        new_node.next = self.head\n",
    "        self.head = new_node\n",
    "        \n",
    "    def printMiddle(self):\n",
    "        slow = self.head\n",
    "        fast = self.head\n",
    "        while(slow.next is not None and fast.next.next is not None):\n",
    "            fast = fast.next.next \n",
    "            slow = slow.next\n",
    "        print(slow.val)\n",
    "    def inverse_LinkedList(self):\n",
    "        prev = None\n",
    "        cur = self.head\n",
    "        while(cur is not None):\n",
    "            next = cur.next \n",
    "            cur.next = prev\n",
    "            prev = cur\n",
    "            cur = next\n",
    "        self.head = prev\n",
    "    def printList(self):\n",
    "        temp = self.head\n",
    "        while(temp):\n",
    "            print(temp.val)\n",
    "            temp = temp.next\n",
    "        \n",
    "        "
   ]
  },
  {
   "cell_type": "code",
   "execution_count": 234,
   "metadata": {
    "scrolled": true
   },
   "outputs": [
    {
     "name": "stdout",
     "output_type": "stream",
     "text": [
      "4\n",
      "3\n",
      "2\n",
      "1\n"
     ]
    }
   ],
   "source": [
    "list1 = ListNode()\n",
    "list1.push(1)\n",
    "list1.push(2)\n",
    "list1.push(3)\n",
    "list1.push(4)\n",
    "list1.printList()"
   ]
  },
  {
   "cell_type": "markdown",
   "metadata": {},
   "source": [
    "# Q7 Find middle node in linked list "
   ]
  },
  {
   "cell_type": "code",
   "execution_count": 235,
   "metadata": {},
   "outputs": [
    {
     "name": "stdout",
     "output_type": "stream",
     "text": [
      "3\n"
     ]
    }
   ],
   "source": [
    "list1.printMiddle()"
   ]
  },
  {
   "cell_type": "markdown",
   "metadata": {},
   "source": [
    "# Q8 reverse linkedlist "
   ]
  },
  {
   "cell_type": "code",
   "execution_count": 236,
   "metadata": {},
   "outputs": [],
   "source": [
    "list1.inverse_LinkedList()\n",
    "list1.printList()"
   ]
  },
  {
   "cell_type": "markdown",
   "metadata": {},
   "source": [
    "# Q9 Max Stack problem "
   ]
  },
  {
   "cell_type": "code",
   "execution_count": 242,
   "metadata": {},
   "outputs": [],
   "source": [
    "class  StackwithMax:\n",
    "    def __init__(self):\n",
    "        self.mainStack = []\n",
    "        self.trackStack = []\n",
    "    def push(self, val):\n",
    "        self.mainStack.append(val)\n",
    "        if(len(self.mainStack) == 1):\n",
    "            self.trackStack.append(val)\n",
    "        if(val> self.trackStack[-1]):\n",
    "            self.trackStack.append(val)\n",
    "        else:\n",
    "            self.trackStack.append(self.trackStack[-1])\n",
    "    def get_max(self):\n",
    "        return self.trackStack[-1]\n",
    "    def pop(self):\n",
    "        self.mainStack.pop()\n",
    "        self.trackStack.pop()"
   ]
  },
  {
   "cell_type": "code",
   "execution_count": 244,
   "metadata": {},
   "outputs": [
    {
     "data": {
      "text/plain": [
       "100"
      ]
     },
     "execution_count": 244,
     "metadata": {},
     "output_type": "execute_result"
    }
   ],
   "source": [
    "stack1 = StackwithMax()\n",
    "stack1.push(1)\n",
    "stack1.push(10)\n",
    "stack1.push(5)\n",
    "stack1.push(1)\n",
    "stack1.push(10)\n",
    "stack1.push(5)\n",
    "stack1.push(1)\n",
    "stack1.push(100)\n",
    "stack1.push(5)\n",
    "\n",
    "stack1.get_max()"
   ]
  },
  {
   "cell_type": "markdown",
   "metadata": {},
   "source": [
    "# Q10 queue with stack problem "
   ]
  },
  {
   "cell_type": "code",
   "execution_count": 269,
   "metadata": {},
   "outputs": [],
   "source": [
    "class Queue:\n",
    "    def __init__(self):\n",
    "        self.stack1 = []\n",
    "        self.stack2 = []\n",
    "    def enqueue(self,val):\n",
    "        self.stack1.append(val)\n",
    "    def dequque(self):\n",
    "        if len(self.stack1) == 0 and len(self.stack2) == 0:\n",
    "            print(\"empyt\")\n",
    "        if len(self.stack2) == 0 :\n",
    "            while len(self.stack1)!=0:\n",
    "                self.stack2.append(self.stack1.pop())\n",
    "        return self.stack2.pop()"
   ]
  },
  {
   "cell_type": "code",
   "execution_count": 271,
   "metadata": {},
   "outputs": [
    {
     "data": {
      "text/plain": [
       "4"
      ]
     },
     "execution_count": 271,
     "metadata": {},
     "output_type": "execute_result"
    }
   ],
   "source": [
    "queue = Queue()\n",
    "queue.enqueue(1)\n",
    "queue.enqueue(2)\n",
    "queue.enqueue(3)\n",
    "queue.enqueue(4)\n",
    "queue.dequque()\n",
    "queue.dequque()\n",
    "queue.dequque()\n",
    "queue.dequque()"
   ]
  },
  {
   "cell_type": "markdown",
   "metadata": {},
   "source": [
    "# Q10 make judgement to two binary tree"
   ]
  },
  {
   "cell_type": "code",
   "execution_count": 292,
   "metadata": {},
   "outputs": [],
   "source": [
    "class Node:\n",
    "    def __init__(self,val):\n",
    "        self.val = val\n",
    "        self.right = None\n",
    "        self.left = None\n",
    "    #def Inorder_traversal(self):\n",
    "def identifyTwoTree(a,b):\n",
    "    if(a is None and b is None):\n",
    "        return True\n",
    "    else:\n",
    "        return ((a.val == b.val ) and\n",
    "               identifyTwoTree(a.left, b.left) and \n",
    "                 identifyTwoTree(a.right, b.right)\n",
    "               ) \n",
    "    \n",
    "def visitNode(a):\n",
    "    print(a.val)\n",
    "def inorderTraversal(a):\n",
    "    if a:\n",
    "        inorderTraversal(a.left)\n",
    "        visitNode(a)\n",
    "        inorderTraversal(a.right)"
   ]
  },
  {
   "cell_type": "code",
   "execution_count": 289,
   "metadata": {},
   "outputs": [],
   "source": [
    "root1 = Node(2)\n",
    "root1.left = Node(1)\n",
    "root1.left = Node(3)\n",
    "root1.right = None\n",
    "root1.left.left = None\n",
    "root2 = Node(2)\n",
    "root2.left = Node(1)\n",
    "root2.left = Node(4)\n"
   ]
  },
  {
   "cell_type": "code",
   "execution_count": 293,
   "metadata": {},
   "outputs": [
    {
     "name": "stdout",
     "output_type": "stream",
     "text": [
      "3\n",
      "2\n"
     ]
    }
   ],
   "source": [
    "inorderTraversal(root1)"
   ]
  },
  {
   "cell_type": "code",
   "execution_count": 284,
   "metadata": {},
   "outputs": [
    {
     "data": {
      "text/plain": [
       "False"
      ]
     },
     "execution_count": 284,
     "metadata": {},
     "output_type": "execute_result"
    }
   ],
   "source": [
    "identifyTwoTree(root1,root2)"
   ]
  },
  {
   "cell_type": "code",
   "execution_count": null,
   "metadata": {},
   "outputs": [],
   "source": []
  },
  {
   "cell_type": "code",
   "execution_count": null,
   "metadata": {},
   "outputs": [],
   "source": []
  },
  {
   "cell_type": "code",
   "execution_count": null,
   "metadata": {},
   "outputs": [],
   "source": []
  }
 ],
 "metadata": {
  "kernelspec": {
   "display_name": "Python 3",
   "language": "python",
   "name": "python3"
  },
  "language_info": {
   "codemirror_mode": {
    "name": "ipython",
    "version": 3
   },
   "file_extension": ".py",
   "mimetype": "text/x-python",
   "name": "python",
   "nbconvert_exporter": "python",
   "pygments_lexer": "ipython3",
   "version": "3.6.6"
  }
 },
 "nbformat": 4,
 "nbformat_minor": 2
}
